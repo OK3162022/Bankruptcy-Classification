{
 "cells": [
  {
   "cell_type": "markdown",
   "id": "db1e9195",
   "metadata": {
    "papermill": {
     "duration": 0.012628,
     "end_time": "2022-09-14T14:43:38.009342",
     "exception": false,
     "start_time": "2022-09-14T14:43:37.996714",
     "status": "completed"
    },
    "tags": []
   },
   "source": [
    "## Gradient Boosting\n",
    "Bankruptcy classification using ensemble methods.\n",
    "This notebook extends the findings of the previous one where a logistic regression model was applied to the data and performed poorly.\n",
    "Previous one: https://www.kaggle.com/code/omar1092837465/bankruptcy-classification-logistic-regression?scriptVersionId=105667651\n",
    "1. Import Libraries and reading data.\n",
    "2. Train-test split\n",
    "3. Extreme Gradient bosting\n",
    "4. Tuning hyperparaemters\n",
    "5. Evaluating the model\n",
    "6. Feature Importance"
   ]
  },
  {
   "cell_type": "markdown",
   "id": "7d436eec",
   "metadata": {
    "papermill": {
     "duration": 0.005517,
     "end_time": "2022-09-14T14:43:38.021357",
     "exception": false,
     "start_time": "2022-09-14T14:43:38.015840",
     "status": "completed"
    },
    "tags": []
   },
   "source": [
    "## 1. Import Libraries and reading data."
   ]
  },
  {
   "cell_type": "code",
   "execution_count": 1,
   "id": "05cffff0",
   "metadata": {
    "execution": {
     "iopub.execute_input": "2022-09-14T14:43:38.036022Z",
     "iopub.status.busy": "2022-09-14T14:43:38.034625Z",
     "iopub.status.idle": "2022-09-14T14:43:39.540024Z",
     "shell.execute_reply": "2022-09-14T14:43:39.538711Z"
    },
    "papermill": {
     "duration": 1.516445,
     "end_time": "2022-09-14T14:43:39.543756",
     "exception": false,
     "start_time": "2022-09-14T14:43:38.027311",
     "status": "completed"
    },
    "tags": []
   },
   "outputs": [],
   "source": [
    "from scipy.io import arff\n",
    "import numpy as np\n",
    "import pandas as pd\n",
    "import matplotlib.pyplot as plt\n",
    "from sklearn.model_selection import train_test_split\n",
    "from sklearn.model_selection import GridSearchCV\n",
    "from sklearn.model_selection import StratifiedKFold\n",
    "from sklearn.metrics import roc_auc_score\n",
    "from sklearn.metrics import classification_report, confusion_matrix\n",
    "import xgboost as xgb\n"
   ]
  },
  {
   "cell_type": "code",
   "execution_count": 2,
   "id": "0ba00a29",
   "metadata": {
    "execution": {
     "iopub.execute_input": "2022-09-14T14:43:39.558909Z",
     "iopub.status.busy": "2022-09-14T14:43:39.558468Z",
     "iopub.status.idle": "2022-09-14T14:43:39.564482Z",
     "shell.execute_reply": "2022-09-14T14:43:39.563141Z"
    },
    "papermill": {
     "duration": 0.016859,
     "end_time": "2022-09-14T14:43:39.567521",
     "exception": false,
     "start_time": "2022-09-14T14:43:39.550662",
     "status": "completed"
    },
    "tags": []
   },
   "outputs": [],
   "source": [
    "plt.style.use('ggplot')\n",
    "plt.rcParams[\"figure.figsize\"] = (12,12)"
   ]
  },
  {
   "cell_type": "code",
   "execution_count": 3,
   "id": "1b17e02c",
   "metadata": {
    "execution": {
     "iopub.execute_input": "2022-09-14T14:43:39.581378Z",
     "iopub.status.busy": "2022-09-14T14:43:39.579861Z",
     "iopub.status.idle": "2022-09-14T14:43:40.038161Z",
     "shell.execute_reply": "2022-09-14T14:43:40.036863Z"
    },
    "papermill": {
     "duration": 0.468384,
     "end_time": "2022-09-14T14:43:40.041201",
     "exception": false,
     "start_time": "2022-09-14T14:43:39.572817",
     "status": "completed"
    },
    "tags": []
   },
   "outputs": [
    {
     "data": {
      "text/html": [
       "<div>\n",
       "<style scoped>\n",
       "    .dataframe tbody tr th:only-of-type {\n",
       "        vertical-align: middle;\n",
       "    }\n",
       "\n",
       "    .dataframe tbody tr th {\n",
       "        vertical-align: top;\n",
       "    }\n",
       "\n",
       "    .dataframe thead th {\n",
       "        text-align: right;\n",
       "    }\n",
       "</style>\n",
       "<table border=\"1\" class=\"dataframe\">\n",
       "  <thead>\n",
       "    <tr style=\"text-align: right;\">\n",
       "      <th></th>\n",
       "      <th>Attr1</th>\n",
       "      <th>Attr2</th>\n",
       "      <th>Attr3</th>\n",
       "      <th>Attr4</th>\n",
       "      <th>Attr5</th>\n",
       "      <th>Attr6</th>\n",
       "      <th>Attr7</th>\n",
       "      <th>Attr8</th>\n",
       "      <th>Attr9</th>\n",
       "      <th>Attr10</th>\n",
       "      <th>...</th>\n",
       "      <th>Attr56</th>\n",
       "      <th>Attr57</th>\n",
       "      <th>Attr58</th>\n",
       "      <th>Attr59</th>\n",
       "      <th>Attr60</th>\n",
       "      <th>Attr61</th>\n",
       "      <th>Attr62</th>\n",
       "      <th>Attr63</th>\n",
       "      <th>Attr64</th>\n",
       "      <th>class</th>\n",
       "    </tr>\n",
       "  </thead>\n",
       "  <tbody>\n",
       "    <tr>\n",
       "      <th>0</th>\n",
       "      <td>0.200550</td>\n",
       "      <td>0.37951</td>\n",
       "      <td>0.39641</td>\n",
       "      <td>2.0472</td>\n",
       "      <td>32.3510</td>\n",
       "      <td>0.38825</td>\n",
       "      <td>0.249760</td>\n",
       "      <td>1.33050</td>\n",
       "      <td>1.1389</td>\n",
       "      <td>0.50494</td>\n",
       "      <td>...</td>\n",
       "      <td>0.121960</td>\n",
       "      <td>0.39718</td>\n",
       "      <td>0.87804</td>\n",
       "      <td>0.001924</td>\n",
       "      <td>8.4160</td>\n",
       "      <td>5.1372</td>\n",
       "      <td>82.658</td>\n",
       "      <td>4.4158</td>\n",
       "      <td>7.4277</td>\n",
       "      <td>0</td>\n",
       "    </tr>\n",
       "    <tr>\n",
       "      <th>1</th>\n",
       "      <td>0.209120</td>\n",
       "      <td>0.49988</td>\n",
       "      <td>0.47225</td>\n",
       "      <td>1.9447</td>\n",
       "      <td>14.7860</td>\n",
       "      <td>0.00000</td>\n",
       "      <td>0.258340</td>\n",
       "      <td>0.99601</td>\n",
       "      <td>1.6996</td>\n",
       "      <td>0.49788</td>\n",
       "      <td>...</td>\n",
       "      <td>0.121300</td>\n",
       "      <td>0.42002</td>\n",
       "      <td>0.85300</td>\n",
       "      <td>0.000000</td>\n",
       "      <td>4.1486</td>\n",
       "      <td>3.2732</td>\n",
       "      <td>107.350</td>\n",
       "      <td>3.4000</td>\n",
       "      <td>60.9870</td>\n",
       "      <td>0</td>\n",
       "    </tr>\n",
       "    <tr>\n",
       "      <th>2</th>\n",
       "      <td>0.248660</td>\n",
       "      <td>0.69592</td>\n",
       "      <td>0.26713</td>\n",
       "      <td>1.5548</td>\n",
       "      <td>-1.1523</td>\n",
       "      <td>0.00000</td>\n",
       "      <td>0.309060</td>\n",
       "      <td>0.43695</td>\n",
       "      <td>1.3090</td>\n",
       "      <td>0.30408</td>\n",
       "      <td>...</td>\n",
       "      <td>0.241140</td>\n",
       "      <td>0.81774</td>\n",
       "      <td>0.76599</td>\n",
       "      <td>0.694840</td>\n",
       "      <td>4.9909</td>\n",
       "      <td>3.9510</td>\n",
       "      <td>134.270</td>\n",
       "      <td>2.7185</td>\n",
       "      <td>5.2078</td>\n",
       "      <td>0</td>\n",
       "    </tr>\n",
       "    <tr>\n",
       "      <th>3</th>\n",
       "      <td>0.081483</td>\n",
       "      <td>0.30734</td>\n",
       "      <td>0.45879</td>\n",
       "      <td>2.4928</td>\n",
       "      <td>51.9520</td>\n",
       "      <td>0.14988</td>\n",
       "      <td>0.092704</td>\n",
       "      <td>1.86610</td>\n",
       "      <td>1.0571</td>\n",
       "      <td>0.57353</td>\n",
       "      <td>...</td>\n",
       "      <td>0.054015</td>\n",
       "      <td>0.14207</td>\n",
       "      <td>0.94598</td>\n",
       "      <td>0.000000</td>\n",
       "      <td>4.5746</td>\n",
       "      <td>3.6147</td>\n",
       "      <td>86.435</td>\n",
       "      <td>4.2228</td>\n",
       "      <td>5.5497</td>\n",
       "      <td>0</td>\n",
       "    </tr>\n",
       "    <tr>\n",
       "      <th>4</th>\n",
       "      <td>0.187320</td>\n",
       "      <td>0.61323</td>\n",
       "      <td>0.22960</td>\n",
       "      <td>1.4063</td>\n",
       "      <td>-7.3128</td>\n",
       "      <td>0.18732</td>\n",
       "      <td>0.187320</td>\n",
       "      <td>0.63070</td>\n",
       "      <td>1.1559</td>\n",
       "      <td>0.38677</td>\n",
       "      <td>...</td>\n",
       "      <td>0.134850</td>\n",
       "      <td>0.48431</td>\n",
       "      <td>0.86515</td>\n",
       "      <td>0.124440</td>\n",
       "      <td>6.3985</td>\n",
       "      <td>4.3158</td>\n",
       "      <td>127.210</td>\n",
       "      <td>2.8692</td>\n",
       "      <td>7.8980</td>\n",
       "      <td>0</td>\n",
       "    </tr>\n",
       "  </tbody>\n",
       "</table>\n",
       "<p>5 rows × 65 columns</p>\n",
       "</div>"
      ],
      "text/plain": [
       "      Attr1    Attr2    Attr3   Attr4    Attr5    Attr6     Attr7    Attr8  \\\n",
       "0  0.200550  0.37951  0.39641  2.0472  32.3510  0.38825  0.249760  1.33050   \n",
       "1  0.209120  0.49988  0.47225  1.9447  14.7860  0.00000  0.258340  0.99601   \n",
       "2  0.248660  0.69592  0.26713  1.5548  -1.1523  0.00000  0.309060  0.43695   \n",
       "3  0.081483  0.30734  0.45879  2.4928  51.9520  0.14988  0.092704  1.86610   \n",
       "4  0.187320  0.61323  0.22960  1.4063  -7.3128  0.18732  0.187320  0.63070   \n",
       "\n",
       "    Attr9   Attr10  ...    Attr56   Attr57   Attr58    Attr59  Attr60  Attr61  \\\n",
       "0  1.1389  0.50494  ...  0.121960  0.39718  0.87804  0.001924  8.4160  5.1372   \n",
       "1  1.6996  0.49788  ...  0.121300  0.42002  0.85300  0.000000  4.1486  3.2732   \n",
       "2  1.3090  0.30408  ...  0.241140  0.81774  0.76599  0.694840  4.9909  3.9510   \n",
       "3  1.0571  0.57353  ...  0.054015  0.14207  0.94598  0.000000  4.5746  3.6147   \n",
       "4  1.1559  0.38677  ...  0.134850  0.48431  0.86515  0.124440  6.3985  4.3158   \n",
       "\n",
       "    Attr62  Attr63   Attr64  class  \n",
       "0   82.658  4.4158   7.4277      0  \n",
       "1  107.350  3.4000  60.9870      0  \n",
       "2  134.270  2.7185   5.2078      0  \n",
       "3   86.435  4.2228   5.5497      0  \n",
       "4  127.210  2.8692   7.8980      0  \n",
       "\n",
       "[5 rows x 65 columns]"
      ]
     },
     "execution_count": 3,
     "metadata": {},
     "output_type": "execute_result"
    }
   ],
   "source": [
    "data = arff.loadarff('../input/forecasting-bankrupts-with-ann/1year.arff')\n",
    "df = pd.DataFrame(data[0])\n",
    "df['class'] = df['class'].astype(int)\n",
    "df.head()"
   ]
  },
  {
   "cell_type": "markdown",
   "id": "ba73f005",
   "metadata": {
    "papermill": {
     "duration": 0.005386,
     "end_time": "2022-09-14T14:43:40.052635",
     "exception": false,
     "start_time": "2022-09-14T14:43:40.047249",
     "status": "completed"
    },
    "tags": []
   },
   "source": [
    "## 2. Train-test split"
   ]
  },
  {
   "cell_type": "code",
   "execution_count": 4,
   "id": "6453490a",
   "metadata": {
    "execution": {
     "iopub.execute_input": "2022-09-14T14:43:40.066433Z",
     "iopub.status.busy": "2022-09-14T14:43:40.065688Z",
     "iopub.status.idle": "2022-09-14T14:43:40.089069Z",
     "shell.execute_reply": "2022-09-14T14:43:40.086997Z"
    },
    "papermill": {
     "duration": 0.033847,
     "end_time": "2022-09-14T14:43:40.092070",
     "exception": false,
     "start_time": "2022-09-14T14:43:40.058223",
     "status": "completed"
    },
    "tags": []
   },
   "outputs": [],
   "source": [
    "# Split the features and target\n",
    "\n",
    "X = df.iloc[:,:-1]\n",
    "y = df.iloc[:,-1]\n",
    "\n",
    "# train test split\n",
    "X_train, X_test, y_train, y_test = train_test_split(X,y, test_size = 0.2, random_state = 1, stratify = y)"
   ]
  },
  {
   "cell_type": "markdown",
   "id": "3906045a",
   "metadata": {
    "papermill": {
     "duration": 0.005228,
     "end_time": "2022-09-14T14:43:40.103062",
     "exception": false,
     "start_time": "2022-09-14T14:43:40.097834",
     "status": "completed"
    },
    "tags": []
   },
   "source": [
    "## 3. Extreme Gradient bosting\n",
    "\n",
    "Tuning parameters in boosting is usually difficult with so many possibilites to try, from the number of Iterations and the learning rate to subsampling and regularization. A possible approach is to set the number of iterations first by early stopping with a high learning rate- overfit, then work backwards to reduce the overfiiting using GridSearch cross validation. "
   ]
  },
  {
   "cell_type": "code",
   "execution_count": 5,
   "id": "88616a02",
   "metadata": {
    "execution": {
     "iopub.execute_input": "2022-09-14T14:43:40.117351Z",
     "iopub.status.busy": "2022-09-14T14:43:40.116020Z",
     "iopub.status.idle": "2022-09-14T14:43:46.618153Z",
     "shell.execute_reply": "2022-09-14T14:43:46.617109Z"
    },
    "papermill": {
     "duration": 6.51251,
     "end_time": "2022-09-14T14:43:46.621280",
     "exception": false,
     "start_time": "2022-09-14T14:43:40.108770",
     "status": "completed"
    },
    "tags": []
   },
   "outputs": [
    {
     "name": "stdout",
     "output_type": "stream",
     "text": [
      "[14:43:40] WARNING: ../src/learner.cc:627: \n",
      "Parameters: { \"enable_categorical\", \"missing\", \"n_estimators\", \"use_label_encoder\" } might not be used.\n",
      "\n",
      "  This could be a false alarm, with some parameters getting used by language bindings but\n",
      "  then being mistakenly passed down to XGBoost core, or some parameter actually being used\n",
      "  but getting flagged wrongly here. Please open an issue if you find any such cases.\n",
      "\n",
      "\n",
      "[14:43:40] WARNING: ../src/learner.cc:627: \n",
      "Parameters: { \"enable_categorical\", \"missing\", \"n_estimators\", \"use_label_encoder\" } might not be used.\n",
      "\n",
      "  This could be a false alarm, with some parameters getting used by language bindings but\n",
      "  then being mistakenly passed down to XGBoost core, or some parameter actually being used\n",
      "  but getting flagged wrongly here. Please open an issue if you find any such cases.\n",
      "\n",
      "\n",
      "[14:43:40] WARNING: ../src/learner.cc:627: \n",
      "Parameters: { \"enable_categorical\", \"missing\", \"n_estimators\", \"use_label_encoder\" } might not be used.\n",
      "\n",
      "  This could be a false alarm, with some parameters getting used by language bindings but\n",
      "  then being mistakenly passed down to XGBoost core, or some parameter actually being used\n",
      "  but getting flagged wrongly here. Please open an issue if you find any such cases.\n",
      "\n",
      "\n"
     ]
    },
    {
     "data": {
      "text/plain": [
       "XGBClassifier(base_score=None, booster=None, callbacks=None,\n",
       "              colsample_bylevel=None, colsample_bynode=None,\n",
       "              colsample_bytree=None, early_stopping_rounds=None,\n",
       "              enable_categorical=False, eval_metric=None, gamma=None,\n",
       "              gpu_id=None, grow_policy=None, importance_type=None,\n",
       "              interaction_constraints=None, learning_rate=0.8, max_bin=None,\n",
       "              max_cat_to_onehot=None, max_delta_step=None, max_depth=None,\n",
       "              max_leaves=None, min_child_weight=None, missing=nan,\n",
       "              monotone_constraints=None, n_estimators=31, n_jobs=-1,\n",
       "              num_parallel_tree=None, predictor=None, random_state=None,\n",
       "              reg_alpha=None, reg_lambda=None, ...)"
      ]
     },
     "execution_count": 5,
     "metadata": {},
     "output_type": "execute_result"
    }
   ],
   "source": [
    "# Initial model\n",
    "xgb0 = xgb.XGBClassifier(learning_rate = 0.8, n_estimators = 200, n_jobs = -1)\n",
    "xgbtrain = xgb.DMatrix(X_train.values, y_train.values)\n",
    "\n",
    "#Cross validaion\n",
    "cvresult = xgb.cv(xgb0.get_params(), xgbtrain, num_boost_round=xgb0.get_params()['n_estimators'], nfold=3,metrics='auc', early_stopping_rounds=50, verbose_eval=False)\n",
    "xgb0.set_params(n_estimators = cvresult.shape[0])"
   ]
  },
  {
   "cell_type": "markdown",
   "id": "7a1c47f1",
   "metadata": {
    "papermill": {
     "duration": 0.005958,
     "end_time": "2022-09-14T14:43:46.633244",
     "exception": false,
     "start_time": "2022-09-14T14:43:46.627286",
     "status": "completed"
    },
    "tags": []
   },
   "source": [
    "## 4. Tuning hyper-parameters\n",
    "potential hyperparameters to tune : \n",
    "\n",
    "* **learning rate (shrinakge):** by decreasing the value of the learning rate, the contribution of each model/estimator is shrunk, hence, the model could generalize better.\n",
    "* **n_estimators:** number of Iterations or the models fit. low values prevent overfitting, however, it is dependant on the learning rate too.  \n",
    "* **max_depth:** decreasing the size of the tree might also prevent overfitting.\n",
    "* **subsampling:** sample the observations when constructing the sequential models.\n",
    "* **col_sampling:** sample features when constructing the sequential models."
   ]
  },
  {
   "cell_type": "code",
   "execution_count": 6,
   "id": "a4c0b431",
   "metadata": {
    "execution": {
     "iopub.execute_input": "2022-09-14T14:43:46.647163Z",
     "iopub.status.busy": "2022-09-14T14:43:46.646713Z",
     "iopub.status.idle": "2022-09-14T14:44:24.101754Z",
     "shell.execute_reply": "2022-09-14T14:44:24.100472Z"
    },
    "papermill": {
     "duration": 37.465628,
     "end_time": "2022-09-14T14:44:24.104799",
     "exception": false,
     "start_time": "2022-09-14T14:43:46.639171",
     "status": "completed"
    },
    "tags": []
   },
   "outputs": [
    {
     "name": "stderr",
     "output_type": "stream",
     "text": [
      "/opt/conda/lib/python3.7/site-packages/xgboost/sklearn.py:797: UserWarning: `eval_metric` in `fit` method is deprecated for better compatibility with scikit-learn, use `eval_metric` in constructor or`set_params` instead.\n",
      "  UserWarning,\n"
     ]
    },
    {
     "data": {
      "text/plain": [
       "XGBClassifier(base_score=None, booster=None, callbacks=None,\n",
       "              colsample_bylevel=None, colsample_bynode=None,\n",
       "              colsample_bytree=None, early_stopping_rounds=None,\n",
       "              enable_categorical=False, eval_metric=None, gamma=None,\n",
       "              gpu_id=None, grow_policy=None, importance_type=None,\n",
       "              interaction_constraints=None, learning_rate=0.8, max_bin=None,\n",
       "              max_cat_to_onehot=None, max_delta_step=None, max_depth=7,\n",
       "              max_leaves=None, min_child_weight=None, missing=nan,\n",
       "              monotone_constraints=None, n_estimators=31, n_jobs=-1,\n",
       "              num_parallel_tree=None, predictor=None, random_state=None,\n",
       "              reg_alpha=None, reg_lambda=None, ...)"
      ]
     },
     "execution_count": 6,
     "metadata": {},
     "output_type": "execute_result"
    }
   ],
   "source": [
    "params = {\n",
    "    'max_depth': [3,5,7],\n",
    "    'learning_rate':[0.8, 0.7,0.3,0.1]\n",
    "}\n",
    "\n",
    "# Grid search\n",
    "gridsearch = GridSearchCV(estimator = xgb0, param_grid = params, cv = StratifiedKFold(n_splits = 3), n_jobs = -1).fit(X_train, y_train, eval_metric = 'auc')\n",
    "xgb1 = xgb0.set_params(\n",
    "    max_depth = gridsearch.best_params_['max_depth'],\n",
    "    learning_rate = gridsearch.best_params_['learning_rate']\n",
    ")\n",
    "xgb1"
   ]
  },
  {
   "cell_type": "markdown",
   "id": "8e796988",
   "metadata": {
    "papermill": {
     "duration": 0.005702,
     "end_time": "2022-09-14T14:44:24.117121",
     "exception": false,
     "start_time": "2022-09-14T14:44:24.111419",
     "status": "completed"
    },
    "tags": []
   },
   "source": [
    "## 5. Evaluating the model"
   ]
  },
  {
   "cell_type": "code",
   "execution_count": 7,
   "id": "7dde05f3",
   "metadata": {
    "execution": {
     "iopub.execute_input": "2022-09-14T14:44:24.131280Z",
     "iopub.status.busy": "2022-09-14T14:44:24.130824Z",
     "iopub.status.idle": "2022-09-14T14:44:24.139576Z",
     "shell.execute_reply": "2022-09-14T14:44:24.138311Z"
    },
    "jupyter": {
     "source_hidden": true
    },
    "papermill": {
     "duration": 0.019205,
     "end_time": "2022-09-14T14:44:24.142322",
     "exception": false,
     "start_time": "2022-09-14T14:44:24.123117",
     "status": "completed"
    },
    "tags": []
   },
   "outputs": [],
   "source": [
    "def learning_curve(model, eval_metric, X_train, y_train, X_test, y_test):\n",
    "    \n",
    "    # Train  model\n",
    "    model.fit(X_train, y_train, eval_metric = eval_metric, eval_set = [(X_train, y_train), (X_test, y_test)])\n",
    "    results = model.evals_result()\n",
    "    \n",
    "    # plot learning curve\n",
    "    plt.plot(results['validation_0']['logloss'], label = 'Train', color = 'c')\n",
    "    plt.plot(results['validation_1']['logloss'], label = 'Test', color = 'r')\n",
    "    plt.xlabel('n_estimators')\n",
    "    plt.ylabel('logloss')\n",
    "    plt.legend()\n",
    "    plt.show()"
   ]
  },
  {
   "cell_type": "code",
   "execution_count": 8,
   "id": "754f7f7a",
   "metadata": {
    "execution": {
     "iopub.execute_input": "2022-09-14T14:44:24.158611Z",
     "iopub.status.busy": "2022-09-14T14:44:24.157387Z",
     "iopub.status.idle": "2022-09-14T14:44:26.264946Z",
     "shell.execute_reply": "2022-09-14T14:44:26.263651Z"
    },
    "papermill": {
     "duration": 2.119107,
     "end_time": "2022-09-14T14:44:26.267578",
     "exception": false,
     "start_time": "2022-09-14T14:44:24.148471",
     "status": "completed"
    },
    "tags": []
   },
   "outputs": [
    {
     "name": "stdout",
     "output_type": "stream",
     "text": [
      "[0]\tvalidation_0-logloss:0.21748\tvalidation_1-logloss:0.21676\n",
      "[1]\tvalidation_0-logloss:0.11420\tvalidation_1-logloss:0.12215\n",
      "[2]\tvalidation_0-logloss:0.06965\tvalidation_1-logloss:0.08503\n",
      "[3]\tvalidation_0-logloss:0.04441\tvalidation_1-logloss:0.07122\n",
      "[4]\tvalidation_0-logloss:0.03188\tvalidation_1-logloss:0.06661\n",
      "[5]\tvalidation_0-logloss:0.02507\tvalidation_1-logloss:0.06817\n",
      "[6]\tvalidation_0-logloss:0.01851\tvalidation_1-logloss:0.06691\n",
      "[7]\tvalidation_0-logloss:0.01557\tvalidation_1-logloss:0.06672\n",
      "[8]\tvalidation_0-logloss:0.01354\tvalidation_1-logloss:0.06882\n",
      "[9]\tvalidation_0-logloss:0.01077\tvalidation_1-logloss:0.07137\n",
      "[10]\tvalidation_0-logloss:0.00865\tvalidation_1-logloss:0.07223\n",
      "[11]\tvalidation_0-logloss:0.00714\tvalidation_1-logloss:0.07170\n",
      "[12]\tvalidation_0-logloss:0.00614\tvalidation_1-logloss:0.07287\n",
      "[13]\tvalidation_0-logloss:0.00544\tvalidation_1-logloss:0.07219\n",
      "[14]\tvalidation_0-logloss:0.00483\tvalidation_1-logloss:0.07382\n",
      "[15]\tvalidation_0-logloss:0.00430\tvalidation_1-logloss:0.07330\n",
      "[16]\tvalidation_0-logloss:0.00395\tvalidation_1-logloss:0.07460\n",
      "[17]\tvalidation_0-logloss:0.00360\tvalidation_1-logloss:0.07441\n",
      "[18]\tvalidation_0-logloss:0.00334\tvalidation_1-logloss:0.07606\n",
      "[19]\tvalidation_0-logloss:0.00307\tvalidation_1-logloss:0.07692\n",
      "[20]\tvalidation_0-logloss:0.00290\tvalidation_1-logloss:0.07782\n",
      "[21]\tvalidation_0-logloss:0.00274\tvalidation_1-logloss:0.07744\n",
      "[22]\tvalidation_0-logloss:0.00257\tvalidation_1-logloss:0.07799\n",
      "[23]\tvalidation_0-logloss:0.00244\tvalidation_1-logloss:0.07785\n",
      "[24]\tvalidation_0-logloss:0.00231\tvalidation_1-logloss:0.07852\n",
      "[25]\tvalidation_0-logloss:0.00222\tvalidation_1-logloss:0.07910\n",
      "[26]\tvalidation_0-logloss:0.00214\tvalidation_1-logloss:0.07950\n",
      "[27]\tvalidation_0-logloss:0.00206\tvalidation_1-logloss:0.07953\n",
      "[28]\tvalidation_0-logloss:0.00200\tvalidation_1-logloss:0.07950\n",
      "[29]\tvalidation_0-logloss:0.00195\tvalidation_1-logloss:0.07998\n",
      "[30]\tvalidation_0-logloss:0.00188\tvalidation_1-logloss:0.08059\n"
     ]
    },
    {
     "data": {
      "image/png": "[encoded data removed]",
      "text/plain": [
       "<Figure size 864x864 with 1 Axes>"
      ]
     },
     "metadata": {},
     "output_type": "display_data"
    }
   ],
   "source": [
    "learning_curve(xgb1, 'logloss', X_train, y_train, X_test, y_test)"
   ]
  },
  {
   "cell_type": "markdown",
   "id": "8f3b0fd8",
   "metadata": {
    "papermill": {
     "duration": 0.008103,
     "end_time": "2022-09-14T14:44:26.284305",
     "exception": false,
     "start_time": "2022-09-14T14:44:26.276202",
     "status": "completed"
    },
    "tags": []
   },
   "source": [
    "At the 5th Iteration the testing error started to drift;however, it is still below 0.1 which is good for such imbalanced problem "
   ]
  },
  {
   "cell_type": "markdown",
   "id": "5fa94076",
   "metadata": {
    "papermill": {
     "duration": 0.008238,
     "end_time": "2022-09-14T14:44:26.301203",
     "exception": false,
     "start_time": "2022-09-14T14:44:26.292965",
     "status": "completed"
    },
    "tags": []
   },
   "source": [
    "Just as the we raised the threshold for the logistic regression model in the other notebook https://www.kaggle.com/code/omar1092837465/bankruptcy-classification-logistic-regression?scriptVersionId=105667651 in the classification report secion, raise it here too. "
   ]
  },
  {
   "cell_type": "code",
   "execution_count": 9,
   "id": "0375b026",
   "metadata": {
    "execution": {
     "iopub.execute_input": "2022-09-14T14:44:26.319771Z",
     "iopub.status.busy": "2022-09-14T14:44:26.319350Z",
     "iopub.status.idle": "2022-09-14T14:44:26.326877Z",
     "shell.execute_reply": "2022-09-14T14:44:26.325625Z"
    },
    "jupyter": {
     "source_hidden": true
    },
    "papermill": {
     "duration": 0.01961,
     "end_time": "2022-09-14T14:44:26.329254",
     "exception": false,
     "start_time": "2022-09-14T14:44:26.309644",
     "status": "completed"
    },
    "tags": []
   },
   "outputs": [],
   "source": [
    "def tune_threshold(y_probs, threshold):\n",
    "    \n",
    "    \"\"\" Predicts target with varing the threshold\"\"\"\n",
    "    y_pred_with_threshold = []\n",
    "\n",
    "    for prob in y_probs[:,1]:\n",
    "            if prob > threshold:\n",
    "                y_pred_with_threshold.append(1)\n",
    "            else:\n",
    "                y_pred_with_threshold.append(0)\n",
    "    return y_pred_with_threshold"
   ]
  },
  {
   "cell_type": "code",
   "execution_count": 10,
   "id": "efbe8418",
   "metadata": {
    "execution": {
     "iopub.execute_input": "2022-09-14T14:44:26.347802Z",
     "iopub.status.busy": "2022-09-14T14:44:26.347390Z",
     "iopub.status.idle": "2022-09-14T14:44:26.376921Z",
     "shell.execute_reply": "2022-09-14T14:44:26.375058Z"
    },
    "papermill": {
     "duration": 0.043101,
     "end_time": "2022-09-14T14:44:26.380707",
     "exception": false,
     "start_time": "2022-09-14T14:44:26.337606",
     "status": "completed"
    },
    "tags": []
   },
   "outputs": [
    {
     "name": "stdout",
     "output_type": "stream",
     "text": [
      "AUC: 0.8144449923296078\n",
      "              precision    recall  f1-score   support\n",
      "\n",
      "           0       0.99      1.00      0.99      1352\n",
      "           1       0.97      0.63      0.76        54\n",
      "\n",
      "    accuracy                           0.99      1406\n",
      "   macro avg       0.98      0.81      0.88      1406\n",
      "weighted avg       0.98      0.99      0.98      1406\n",
      "\n",
      "[[1351    1]\n",
      " [  20   34]]\n"
     ]
    }
   ],
   "source": [
    "y_probs = xgb1.predict_proba(X_test)\n",
    "y_pred = tune_threshold(y_probs, 0.9)\n",
    "\n",
    "print(f'AUC: {roc_auc_score(y_test, y_pred)}')\n",
    "print(classification_report(y_test, y_pred))\n",
    "print(confusion_matrix(y_test, y_pred))    "
   ]
  },
  {
   "cell_type": "markdown",
   "id": "3be58dcd",
   "metadata": {
    "papermill": {
     "duration": 0.008266,
     "end_time": "2022-09-14T14:44:26.397754",
     "exception": false,
     "start_time": "2022-09-14T14:44:26.389488",
     "status": "completed"
    },
    "tags": []
   },
   "source": [
    "The model has 81% chance of distinguishing between non-bankrupt and bankrupt companies with a minimal false psoitive rate of (1/1+1351) = 0.073% "
   ]
  },
  {
   "cell_type": "markdown",
   "id": "461502b7",
   "metadata": {
    "papermill": {
     "duration": 0.008524,
     "end_time": "2022-09-14T14:44:26.414799",
     "exception": false,
     "start_time": "2022-09-14T14:44:26.406275",
     "status": "completed"
    },
    "tags": []
   },
   "source": [
    "## 6. Feature Importance"
   ]
  },
  {
   "cell_type": "code",
   "execution_count": 11,
   "id": "ac3bbed5",
   "metadata": {
    "execution": {
     "iopub.execute_input": "2022-09-14T14:44:26.434912Z",
     "iopub.status.busy": "2022-09-14T14:44:26.433889Z",
     "iopub.status.idle": "2022-09-14T14:44:27.682707Z",
     "shell.execute_reply": "2022-09-14T14:44:27.681431Z"
    },
    "papermill": {
     "duration": 1.262284,
     "end_time": "2022-09-14T14:44:27.685773",
     "exception": false,
     "start_time": "2022-09-14T14:44:26.423489",
     "status": "completed"
    },
    "tags": []
   },
   "outputs": [
    {
     "data": {
      "image/png": "[encoded data removed]",
      "text/plain": [
       "<Figure size 864x864 with 1 Axes>"
      ]
     },
     "metadata": {},
     "output_type": "display_data"
    }
   ],
   "source": [
    "xgb.plot_importance(xgb1, max_num_features = 64);"
   ]
  },
  {
   "cell_type": "markdown",
   "id": "ee4a426a",
   "metadata": {
    "papermill": {
     "duration": 0.009316,
     "end_time": "2022-09-14T14:44:27.704843",
     "exception": false,
     "start_time": "2022-09-14T14:44:27.695527",
     "status": "completed"
    },
    "tags": []
   },
   "source": [
    "Gradient Boosting performs way better than the intial model. \n",
    "* It has 81% chance of correctly classifying bankrupt from non=baankrupt companies and False Positive rate of 0.07%.\n",
    "* Attr 27, 5, 46 contribute the most to the model and are the ones who frequently used when constructing the model.\n",
    "* Previous Notebook https://www.kaggle.com/code/omar1092837465/bankruptcy-classification-logistic-regression?scriptVersionId=105667651"
   ]
  }
 ],
 "metadata": {
  "kernelspec": {
   "display_name": "Python 3",
   "language": "python",
   "name": "python3"
  },
  "language_info": {
   "codemirror_mode": {
    "name": "ipython",
    "version": 3
   },
   "file_extension": ".py",
   "mimetype": "text/x-python",
   "name": "python",
   "nbconvert_exporter": "python",
   "pygments_lexer": "ipython3",
   "version": "3.7.12"
  },
  "papermill": {
   "default_parameters": {},
   "duration": 63.71511,
   "end_time": "2022-09-14T14:44:30.337081",
   "environment_variables": {},
   "exception": null,
   "input_path": "__notebook__.ipynb",
   "output_path": "__notebook__.ipynb",
   "parameters": {},
   "start_time": "2022-09-14T14:43:26.621971",
   "version": "2.3.4"
  }
 },
 "nbformat": 4,
 "nbformat_minor": 5
}
