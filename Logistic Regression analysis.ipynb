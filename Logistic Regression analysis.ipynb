{
 "cells": [
  {
   "cell_type": "markdown",
   "id": "c2d23acc",
   "metadata": {
    "papermill": {
     "duration": 0.012304,
     "end_time": "2022-09-14T14:39:16.149199",
     "exception": false,
     "start_time": "2022-09-14T14:39:16.136895",
     "status": "completed"
    },
    "tags": []
   },
   "source": [
    "\n",
    "# Bankruptcy Classification:\n",
    "\n",
    "Classify bankrupt companies five years from now using financial ratios\n",
    "\n",
    "### Outline:\n",
    "1. Import packages\n",
    "2. Read data\n",
    "3. Data Pre-processing\n",
    "> * Encoding\n",
    "> * Remove Missing data\n",
    "> * Outliers\n",
    "4. Data Analysis\n",
    "> * Descriptive Statistics\n",
    "> * ANOVA/Feature Selection\n",
    "> * Inspect correlations\n",
    "5. SMOTE\n",
    "6. Logistic Regression\n",
    "7. Classification report\n",
    "8. Quantifying the effect of each variable on the prediction\n",
    "9. Findings\n",
    "\n",
    "\n",
    "### Designation:\n",
    "* attr1 - net profit / total assets\n",
    "* attr2 - total liabilities / total assets\n",
    "* attr3 - working capital / total assets\n",
    "* attr4 - current assets / short-term liabilities\n",
    "* attr5 - [(cash + short-term securities + receivables - short-term liabilities) / (operating expenses - depreciation)] * 365\n",
    "* attr6 - retained earnings / total assets\n",
    "* attr7 - EBIT / total assets\n",
    "* attr8 - book value of equity / total liabilities\n",
    "* attr9 - sales / total assets\n",
    "* attr10 - equity / total assets\n",
    "* attr11 - (gross profit + extraordinary items + financial expenses) / total assets\n",
    "* attr12 - gross profit / short-term liabilities\n",
    "* attr13 - (gross profit + depreciation) / sales\n",
    "* attr14 - (gross profit + interest) / total assets\n",
    "* attr15 - (total liabilities * 365) / (gross profit + depreciation)\n",
    "* attr16 - (gross profit + depreciation) / total liabilities\n",
    "* attr17 - total assets / total liabilities\n",
    "* attr18 - gross profit / total assets\n",
    "* attr19 - gross profit / sales\n",
    "* attr20 - (inventory * 365) / sales\n",
    "* attr21 - sales (n) / sales (n-1)\n",
    "* attr22 - profit on operating activities / total assets\n",
    "* attr23 - net profit / sales\n",
    "* attr24 - gross profit (in 3 years) / total assets\n",
    "* attr25 - (equity - share capital) / total assets\n",
    "* attr26 - (net profit + depreciation) / total liabilities\n",
    "* attr27 - profit on operating activities / financial expenses\n",
    "* attr28 - working capital / fixed assets\n",
    "* attr29 - logarithm of total assets\n",
    "* attr30 - (total liabilities - cash) / sales\n",
    "* attr31 - (gross profit + interest) / sales\n",
    "* attr32 - (current liabilities * 365) / cost of products sold\n",
    "* attr33 - operating expenses / short-term liabilities\n",
    "* attr34 - operating expenses / total liabilities\n",
    "* attr35 - profit on sales / total assets\n",
    "* attr36 - total sales / total assets\n",
    "* attr37 - (current assets - inventories) / long-term liabilities\n",
    "* attr38 - constant capital / total assets\n",
    "* attr39 - profit on sales / sales\n",
    "* attr40 - (current assets - inventory - receivables) / short-term liabilities\n",
    "* attr41 - total liabilities / ((profit on operating activities + depreciation) * (12/365))\n",
    "* attr42 - profit on operating activities / sales\n",
    "* attr43 - rotation receivables + inventory turnover in days\n",
    "* attr44 - (receivables * 365) / sales\n",
    "* attr45 - net profit / inventory\n",
    "* attr46 - (current assets - inventory) / short-term liabilities\n",
    "* attr47 - (inventory * 365) / cost of products sold\n",
    "* attr48 - EBITDA (profit on operating activities - depreciation) / total assets\n",
    "* attr49 - EBITDA (profit on operating activities - depreciation) / sales\n",
    "* attr50 - current assets / total liabilities\n",
    "* attr51 - short-term liabilities / total assets\n",
    "* attr52 - (short-term liabilities * 365) / cost of products sold)\n",
    "* attr53 - equity / fixed assets\n",
    "* attr54 - constant capital / fixed assets\n",
    "* attr55 - working capital\n",
    "* attr56 - (sales - cost of products sold) / sales\n",
    "* attr57 - (current assets - inventory - short-term liabilities) / (sales - gross profit - depreciation)\n",
    "* attr58 - total costs /total sales\n",
    "* attr59 - long-term liabilities / equity\n",
    "* attr60 - sales / inventory\n",
    "* attr61 - sales / receivables\n",
    "* attr62 - (short-term liabilities *365) / sales\n",
    "* attr63 - sales / short-term liabilities\n",
    "* attr64 - sales / fixed assets\n",
    "* class - the response variable Y: 0 = non bankrupt; 1 = bankrupt"
   ]
  },
  {
   "cell_type": "markdown",
   "id": "570c17db",
   "metadata": {
    "papermill": {
     "duration": 0.010652,
     "end_time": "2022-09-14T14:39:16.170994",
     "exception": false,
     "start_time": "2022-09-14T14:39:16.160342",
     "status": "completed"
    },
    "tags": []
   },
   "source": [
    "# Import packages"
   ]
  },
  {
   "cell_type": "code",
   "execution_count": 1,
   "id": "704e5813",
   "metadata": {
    "execution": {
     "iopub.execute_input": "2022-09-14T14:39:16.195628Z",
     "iopub.status.busy": "2022-09-14T14:39:16.195180Z",
     "iopub.status.idle": "2022-09-14T14:39:17.887917Z",
     "shell.execute_reply": "2022-09-14T14:39:17.886700Z"
    },
    "papermill": {
     "duration": 1.708576,
     "end_time": "2022-09-14T14:39:17.890955",
     "exception": false,
     "start_time": "2022-09-14T14:39:16.182379",
     "status": "completed"
    },
    "tags": []
   },
   "outputs": [],
   "source": [
    "from scipy.io import arff\n",
    "import numpy as np\n",
    "import pandas as pd\n",
    "import matplotlib.pyplot as plt\n",
    "import seaborn as sns\n",
    "from sklearn.feature_selection import SelectKBest, f_classif\n",
    "from imblearn.over_sampling import SMOTE\n",
    "from imblearn.under_sampling import RandomUnderSampler\n",
    "from sklearn.model_selection import train_test_split\n",
    "from sklearn.preprocessing import StandardScaler\n",
    "from sklearn.decomposition import PCA\n",
    "from sklearn.linear_model import LogisticRegression\n",
    "from sklearn.pipeline import make_pipeline\n",
    "from sklearn.metrics import classification_report, confusion_matrix, roc_auc_score, roc_curve"
   ]
  },
  {
   "cell_type": "code",
   "execution_count": 2,
   "id": "9c73254a",
   "metadata": {
    "execution": {
     "iopub.execute_input": "2022-09-14T14:39:17.916738Z",
     "iopub.status.busy": "2022-09-14T14:39:17.916274Z",
     "iopub.status.idle": "2022-09-14T14:39:17.922339Z",
     "shell.execute_reply": "2022-09-14T14:39:17.920978Z"
    },
    "jupyter": {
     "source_hidden": true
    },
    "papermill": {
     "duration": 0.022225,
     "end_time": "2022-09-14T14:39:17.924598",
     "exception": false,
     "start_time": "2022-09-14T14:39:17.902373",
     "status": "completed"
    },
    "tags": []
   },
   "outputs": [],
   "source": [
    "plt.style.use('ggplot')\n",
    "plt.rcParams[\"figure.figsize\"] = (10,9)"
   ]
  },
  {
   "cell_type": "markdown",
   "id": "985badfe",
   "metadata": {
    "papermill": {
     "duration": 0.011148,
     "end_time": "2022-09-14T14:39:17.947173",
     "exception": false,
     "start_time": "2022-09-14T14:39:17.936025",
     "status": "completed"
    },
    "tags": []
   },
   "source": [
    "# Read Data"
   ]
  },
  {
   "cell_type": "code",
   "execution_count": 3,
   "id": "511ef7d8",
   "metadata": {
    "execution": {
     "iopub.execute_input": "2022-09-14T14:39:17.971837Z",
     "iopub.status.busy": "2022-09-14T14:39:17.971414Z",
     "iopub.status.idle": "2022-09-14T14:39:18.426265Z",
     "shell.execute_reply": "2022-09-14T14:39:18.425120Z"
    },
    "papermill": {
     "duration": 0.470421,
     "end_time": "2022-09-14T14:39:18.428960",
     "exception": false,
     "start_time": "2022-09-14T14:39:17.958539",
     "status": "completed"
    },
    "tags": []
   },
   "outputs": [
    {
     "data": {
      "text/html": [
       "<div>\n",
       "<style scoped>\n",
       "    .dataframe tbody tr th:only-of-type {\n",
       "        vertical-align: middle;\n",
       "    }\n",
       "\n",
       "    .dataframe tbody tr th {\n",
       "        vertical-align: top;\n",
       "    }\n",
       "\n",
       "    .dataframe thead th {\n",
       "        text-align: right;\n",
       "    }\n",
       "</style>\n",
       "<table border=\"1\" class=\"dataframe\">\n",
       "  <thead>\n",
       "    <tr style=\"text-align: right;\">\n",
       "      <th></th>\n",
       "      <th>Attr1</th>\n",
       "      <th>Attr2</th>\n",
       "      <th>Attr3</th>\n",
       "      <th>Attr4</th>\n",
       "      <th>Attr5</th>\n",
       "      <th>Attr6</th>\n",
       "      <th>Attr7</th>\n",
       "      <th>Attr8</th>\n",
       "      <th>Attr9</th>\n",
       "      <th>Attr10</th>\n",
       "      <th>...</th>\n",
       "      <th>Attr56</th>\n",
       "      <th>Attr57</th>\n",
       "      <th>Attr58</th>\n",
       "      <th>Attr59</th>\n",
       "      <th>Attr60</th>\n",
       "      <th>Attr61</th>\n",
       "      <th>Attr62</th>\n",
       "      <th>Attr63</th>\n",
       "      <th>Attr64</th>\n",
       "      <th>class</th>\n",
       "    </tr>\n",
       "  </thead>\n",
       "  <tbody>\n",
       "    <tr>\n",
       "      <th>0</th>\n",
       "      <td>0.200550</td>\n",
       "      <td>0.37951</td>\n",
       "      <td>0.39641</td>\n",
       "      <td>2.04720</td>\n",
       "      <td>32.3510</td>\n",
       "      <td>0.388250</td>\n",
       "      <td>0.249760</td>\n",
       "      <td>1.330500</td>\n",
       "      <td>1.13890</td>\n",
       "      <td>0.504940</td>\n",
       "      <td>...</td>\n",
       "      <td>0.121960</td>\n",
       "      <td>0.397180</td>\n",
       "      <td>0.87804</td>\n",
       "      <td>0.001924</td>\n",
       "      <td>8.4160</td>\n",
       "      <td>5.1372</td>\n",
       "      <td>82.658</td>\n",
       "      <td>4.4158</td>\n",
       "      <td>7.42770</td>\n",
       "      <td>b'0'</td>\n",
       "    </tr>\n",
       "    <tr>\n",
       "      <th>1</th>\n",
       "      <td>0.209120</td>\n",
       "      <td>0.49988</td>\n",
       "      <td>0.47225</td>\n",
       "      <td>1.94470</td>\n",
       "      <td>14.7860</td>\n",
       "      <td>0.000000</td>\n",
       "      <td>0.258340</td>\n",
       "      <td>0.996010</td>\n",
       "      <td>1.69960</td>\n",
       "      <td>0.497880</td>\n",
       "      <td>...</td>\n",
       "      <td>0.121300</td>\n",
       "      <td>0.420020</td>\n",
       "      <td>0.85300</td>\n",
       "      <td>0.000000</td>\n",
       "      <td>4.1486</td>\n",
       "      <td>3.2732</td>\n",
       "      <td>107.350</td>\n",
       "      <td>3.4000</td>\n",
       "      <td>60.98700</td>\n",
       "      <td>b'0'</td>\n",
       "    </tr>\n",
       "    <tr>\n",
       "      <th>2</th>\n",
       "      <td>0.248660</td>\n",
       "      <td>0.69592</td>\n",
       "      <td>0.26713</td>\n",
       "      <td>1.55480</td>\n",
       "      <td>-1.1523</td>\n",
       "      <td>0.000000</td>\n",
       "      <td>0.309060</td>\n",
       "      <td>0.436950</td>\n",
       "      <td>1.30900</td>\n",
       "      <td>0.304080</td>\n",
       "      <td>...</td>\n",
       "      <td>0.241140</td>\n",
       "      <td>0.817740</td>\n",
       "      <td>0.76599</td>\n",
       "      <td>0.694840</td>\n",
       "      <td>4.9909</td>\n",
       "      <td>3.9510</td>\n",
       "      <td>134.270</td>\n",
       "      <td>2.7185</td>\n",
       "      <td>5.20780</td>\n",
       "      <td>b'0'</td>\n",
       "    </tr>\n",
       "    <tr>\n",
       "      <th>3</th>\n",
       "      <td>0.081483</td>\n",
       "      <td>0.30734</td>\n",
       "      <td>0.45879</td>\n",
       "      <td>2.49280</td>\n",
       "      <td>51.9520</td>\n",
       "      <td>0.149880</td>\n",
       "      <td>0.092704</td>\n",
       "      <td>1.866100</td>\n",
       "      <td>1.05710</td>\n",
       "      <td>0.573530</td>\n",
       "      <td>...</td>\n",
       "      <td>0.054015</td>\n",
       "      <td>0.142070</td>\n",
       "      <td>0.94598</td>\n",
       "      <td>0.000000</td>\n",
       "      <td>4.5746</td>\n",
       "      <td>3.6147</td>\n",
       "      <td>86.435</td>\n",
       "      <td>4.2228</td>\n",
       "      <td>5.54970</td>\n",
       "      <td>b'0'</td>\n",
       "    </tr>\n",
       "    <tr>\n",
       "      <th>4</th>\n",
       "      <td>0.187320</td>\n",
       "      <td>0.61323</td>\n",
       "      <td>0.22960</td>\n",
       "      <td>1.40630</td>\n",
       "      <td>-7.3128</td>\n",
       "      <td>0.187320</td>\n",
       "      <td>0.187320</td>\n",
       "      <td>0.630700</td>\n",
       "      <td>1.15590</td>\n",
       "      <td>0.386770</td>\n",
       "      <td>...</td>\n",
       "      <td>0.134850</td>\n",
       "      <td>0.484310</td>\n",
       "      <td>0.86515</td>\n",
       "      <td>0.124440</td>\n",
       "      <td>6.3985</td>\n",
       "      <td>4.3158</td>\n",
       "      <td>127.210</td>\n",
       "      <td>2.8692</td>\n",
       "      <td>7.89800</td>\n",
       "      <td>b'0'</td>\n",
       "    </tr>\n",
       "    <tr>\n",
       "      <th>...</th>\n",
       "      <td>...</td>\n",
       "      <td>...</td>\n",
       "      <td>...</td>\n",
       "      <td>...</td>\n",
       "      <td>...</td>\n",
       "      <td>...</td>\n",
       "      <td>...</td>\n",
       "      <td>...</td>\n",
       "      <td>...</td>\n",
       "      <td>...</td>\n",
       "      <td>...</td>\n",
       "      <td>...</td>\n",
       "      <td>...</td>\n",
       "      <td>...</td>\n",
       "      <td>...</td>\n",
       "      <td>...</td>\n",
       "      <td>...</td>\n",
       "      <td>...</td>\n",
       "      <td>...</td>\n",
       "      <td>...</td>\n",
       "      <td>...</td>\n",
       "    </tr>\n",
       "    <tr>\n",
       "      <th>7022</th>\n",
       "      <td>0.018371</td>\n",
       "      <td>0.47410</td>\n",
       "      <td>-0.13619</td>\n",
       "      <td>0.60839</td>\n",
       "      <td>-18.4490</td>\n",
       "      <td>0.018371</td>\n",
       "      <td>0.018371</td>\n",
       "      <td>0.972030</td>\n",
       "      <td>1.01210</td>\n",
       "      <td>0.460840</td>\n",
       "      <td>...</td>\n",
       "      <td>0.011909</td>\n",
       "      <td>0.039866</td>\n",
       "      <td>0.98809</td>\n",
       "      <td>0.274140</td>\n",
       "      <td>73.5050</td>\n",
       "      <td>79.2370</td>\n",
       "      <td>31.268</td>\n",
       "      <td>11.6730</td>\n",
       "      <td>5.14890</td>\n",
       "      <td>b'1'</td>\n",
       "    </tr>\n",
       "    <tr>\n",
       "      <th>7023</th>\n",
       "      <td>-0.013359</td>\n",
       "      <td>0.58354</td>\n",
       "      <td>-0.02265</td>\n",
       "      <td>0.92896</td>\n",
       "      <td>-42.2320</td>\n",
       "      <td>-0.013359</td>\n",
       "      <td>-0.015036</td>\n",
       "      <td>0.562890</td>\n",
       "      <td>0.98904</td>\n",
       "      <td>0.328470</td>\n",
       "      <td>...</td>\n",
       "      <td>-0.011082</td>\n",
       "      <td>-0.040671</td>\n",
       "      <td>1.01110</td>\n",
       "      <td>0.805920</td>\n",
       "      <td>10.5990</td>\n",
       "      <td>7.1740</td>\n",
       "      <td>94.092</td>\n",
       "      <td>3.8792</td>\n",
       "      <td>1.75720</td>\n",
       "      <td>b'1'</td>\n",
       "    </tr>\n",
       "    <tr>\n",
       "      <th>7024</th>\n",
       "      <td>0.006338</td>\n",
       "      <td>0.50276</td>\n",
       "      <td>0.43923</td>\n",
       "      <td>1.87360</td>\n",
       "      <td>9.7417</td>\n",
       "      <td>0.006338</td>\n",
       "      <td>0.012022</td>\n",
       "      <td>0.983560</td>\n",
       "      <td>1.00830</td>\n",
       "      <td>0.494490</td>\n",
       "      <td>...</td>\n",
       "      <td>0.008258</td>\n",
       "      <td>0.012817</td>\n",
       "      <td>0.99174</td>\n",
       "      <td>0.000000</td>\n",
       "      <td>10.4700</td>\n",
       "      <td>6.0759</td>\n",
       "      <td>51.019</td>\n",
       "      <td>7.1542</td>\n",
       "      <td>62.00100</td>\n",
       "      <td>b'1'</td>\n",
       "    </tr>\n",
       "    <tr>\n",
       "      <th>7025</th>\n",
       "      <td>-0.041643</td>\n",
       "      <td>0.84810</td>\n",
       "      <td>-0.12852</td>\n",
       "      <td>0.57485</td>\n",
       "      <td>-121.9200</td>\n",
       "      <td>0.000000</td>\n",
       "      <td>-0.036795</td>\n",
       "      <td>0.179010</td>\n",
       "      <td>0.42138</td>\n",
       "      <td>0.151820</td>\n",
       "      <td>...</td>\n",
       "      <td>-0.232720</td>\n",
       "      <td>-0.274290</td>\n",
       "      <td>0.98788</td>\n",
       "      <td>3.593100</td>\n",
       "      <td>39.7030</td>\n",
       "      <td>3.1420</td>\n",
       "      <td>261.850</td>\n",
       "      <td>1.3939</td>\n",
       "      <td>0.51005</td>\n",
       "      <td>b'1'</td>\n",
       "    </tr>\n",
       "    <tr>\n",
       "      <th>7026</th>\n",
       "      <td>0.014946</td>\n",
       "      <td>0.94648</td>\n",
       "      <td>0.03211</td>\n",
       "      <td>1.03630</td>\n",
       "      <td>-20.5810</td>\n",
       "      <td>0.000000</td>\n",
       "      <td>0.015260</td>\n",
       "      <td>0.056357</td>\n",
       "      <td>2.96940</td>\n",
       "      <td>0.053341</td>\n",
       "      <td>...</td>\n",
       "      <td>0.015705</td>\n",
       "      <td>0.280210</td>\n",
       "      <td>0.97443</td>\n",
       "      <td>1.179200</td>\n",
       "      <td>15.0360</td>\n",
       "      <td>4.1741</td>\n",
       "      <td>108.640</td>\n",
       "      <td>3.3599</td>\n",
       "      <td>35.11800</td>\n",
       "      <td>b'1'</td>\n",
       "    </tr>\n",
       "  </tbody>\n",
       "</table>\n",
       "<p>7027 rows × 65 columns</p>\n",
       "</div>"
      ],
      "text/plain": [
       "         Attr1    Attr2    Attr3    Attr4     Attr5     Attr6     Attr7  \\\n",
       "0     0.200550  0.37951  0.39641  2.04720   32.3510  0.388250  0.249760   \n",
       "1     0.209120  0.49988  0.47225  1.94470   14.7860  0.000000  0.258340   \n",
       "2     0.248660  0.69592  0.26713  1.55480   -1.1523  0.000000  0.309060   \n",
       "3     0.081483  0.30734  0.45879  2.49280   51.9520  0.149880  0.092704   \n",
       "4     0.187320  0.61323  0.22960  1.40630   -7.3128  0.187320  0.187320   \n",
       "...        ...      ...      ...      ...       ...       ...       ...   \n",
       "7022  0.018371  0.47410 -0.13619  0.60839  -18.4490  0.018371  0.018371   \n",
       "7023 -0.013359  0.58354 -0.02265  0.92896  -42.2320 -0.013359 -0.015036   \n",
       "7024  0.006338  0.50276  0.43923  1.87360    9.7417  0.006338  0.012022   \n",
       "7025 -0.041643  0.84810 -0.12852  0.57485 -121.9200  0.000000 -0.036795   \n",
       "7026  0.014946  0.94648  0.03211  1.03630  -20.5810  0.000000  0.015260   \n",
       "\n",
       "         Attr8    Attr9    Attr10  ...    Attr56    Attr57   Attr58    Attr59  \\\n",
       "0     1.330500  1.13890  0.504940  ...  0.121960  0.397180  0.87804  0.001924   \n",
       "1     0.996010  1.69960  0.497880  ...  0.121300  0.420020  0.85300  0.000000   \n",
       "2     0.436950  1.30900  0.304080  ...  0.241140  0.817740  0.76599  0.694840   \n",
       "3     1.866100  1.05710  0.573530  ...  0.054015  0.142070  0.94598  0.000000   \n",
       "4     0.630700  1.15590  0.386770  ...  0.134850  0.484310  0.86515  0.124440   \n",
       "...        ...      ...       ...  ...       ...       ...      ...       ...   \n",
       "7022  0.972030  1.01210  0.460840  ...  0.011909  0.039866  0.98809  0.274140   \n",
       "7023  0.562890  0.98904  0.328470  ... -0.011082 -0.040671  1.01110  0.805920   \n",
       "7024  0.983560  1.00830  0.494490  ...  0.008258  0.012817  0.99174  0.000000   \n",
       "7025  0.179010  0.42138  0.151820  ... -0.232720 -0.274290  0.98788  3.593100   \n",
       "7026  0.056357  2.96940  0.053341  ...  0.015705  0.280210  0.97443  1.179200   \n",
       "\n",
       "       Attr60   Attr61   Attr62   Attr63    Attr64  class  \n",
       "0      8.4160   5.1372   82.658   4.4158   7.42770   b'0'  \n",
       "1      4.1486   3.2732  107.350   3.4000  60.98700   b'0'  \n",
       "2      4.9909   3.9510  134.270   2.7185   5.20780   b'0'  \n",
       "3      4.5746   3.6147   86.435   4.2228   5.54970   b'0'  \n",
       "4      6.3985   4.3158  127.210   2.8692   7.89800   b'0'  \n",
       "...       ...      ...      ...      ...       ...    ...  \n",
       "7022  73.5050  79.2370   31.268  11.6730   5.14890   b'1'  \n",
       "7023  10.5990   7.1740   94.092   3.8792   1.75720   b'1'  \n",
       "7024  10.4700   6.0759   51.019   7.1542  62.00100   b'1'  \n",
       "7025  39.7030   3.1420  261.850   1.3939   0.51005   b'1'  \n",
       "7026  15.0360   4.1741  108.640   3.3599  35.11800   b'1'  \n",
       "\n",
       "[7027 rows x 65 columns]"
      ]
     },
     "execution_count": 3,
     "metadata": {},
     "output_type": "execute_result"
    }
   ],
   "source": [
    "data = arff.loadarff('../input/forecasting-bankrupts-with-ann/1year.arff')\n",
    "df = pd.DataFrame(data[0])\n",
    "df"
   ]
  },
  {
   "cell_type": "markdown",
   "id": "5600fc4c",
   "metadata": {
    "papermill": {
     "duration": 0.011471,
     "end_time": "2022-09-14T14:39:18.453245",
     "exception": false,
     "start_time": "2022-09-14T14:39:18.441774",
     "status": "completed"
    },
    "tags": []
   },
   "source": [
    "# Pre-processing:"
   ]
  },
  {
   "cell_type": "markdown",
   "id": "97d39d40",
   "metadata": {
    "papermill": {
     "duration": 0.011234,
     "end_time": "2022-09-14T14:39:18.476152",
     "exception": false,
     "start_time": "2022-09-14T14:39:18.464918",
     "status": "completed"
    },
    "tags": []
   },
   "source": [
    "## Encoding:\n",
    "Convert target to 0's and 1's instead of b'0' and b'1' respectively."
   ]
  },
  {
   "cell_type": "code",
   "execution_count": 4,
   "id": "ed4c8e96",
   "metadata": {
    "execution": {
     "iopub.execute_input": "2022-09-14T14:39:18.502126Z",
     "iopub.status.busy": "2022-09-14T14:39:18.501336Z",
     "iopub.status.idle": "2022-09-14T14:39:18.511471Z",
     "shell.execute_reply": "2022-09-14T14:39:18.510115Z"
    },
    "papermill": {
     "duration": 0.025938,
     "end_time": "2022-09-14T14:39:18.513980",
     "exception": false,
     "start_time": "2022-09-14T14:39:18.488042",
     "status": "completed"
    },
    "tags": []
   },
   "outputs": [],
   "source": [
    "df['class'] = df['class'].astype(int)"
   ]
  },
  {
   "cell_type": "markdown",
   "id": "cfd53143",
   "metadata": {
    "_kg_hide-input": true,
    "papermill": {
     "duration": 0.011553,
     "end_time": "2022-09-14T14:39:18.537598",
     "exception": false,
     "start_time": "2022-09-14T14:39:18.526045",
     "status": "completed"
    },
    "tags": []
   },
   "source": [
    "## Remove missing values"
   ]
  },
  {
   "cell_type": "code",
   "execution_count": 5,
   "id": "93b841c8",
   "metadata": {
    "execution": {
     "iopub.execute_input": "2022-09-14T14:39:18.563690Z",
     "iopub.status.busy": "2022-09-14T14:39:18.562986Z",
     "iopub.status.idle": "2022-09-14T14:39:18.587685Z",
     "shell.execute_reply": "2022-09-14T14:39:18.586899Z"
    },
    "papermill": {
     "duration": 0.041434,
     "end_time": "2022-09-14T14:39:18.591021",
     "exception": false,
     "start_time": "2022-09-14T14:39:18.549587",
     "status": "completed"
    },
    "tags": []
   },
   "outputs": [
    {
     "name": "stdout",
     "output_type": "stream",
     "text": [
      "<class 'pandas.core.frame.DataFrame'>\n",
      "RangeIndex: 7027 entries, 0 to 7026\n",
      "Data columns (total 65 columns):\n",
      " #   Column  Non-Null Count  Dtype  \n",
      "---  ------  --------------  -----  \n",
      " 0   Attr1   7024 non-null   float64\n",
      " 1   Attr2   7024 non-null   float64\n",
      " 2   Attr3   7024 non-null   float64\n",
      " 3   Attr4   6997 non-null   float64\n",
      " 4   Attr5   7019 non-null   float64\n",
      " 5   Attr6   7024 non-null   float64\n",
      " 6   Attr7   7024 non-null   float64\n",
      " 7   Attr8   7002 non-null   float64\n",
      " 8   Attr9   7026 non-null   float64\n",
      " 9   Attr10  7024 non-null   float64\n",
      " 10  Attr11  6988 non-null   float64\n",
      " 11  Attr12  6997 non-null   float64\n",
      " 12  Attr13  7027 non-null   float64\n",
      " 13  Attr14  7024 non-null   float64\n",
      " 14  Attr15  7025 non-null   float64\n",
      " 15  Attr16  7002 non-null   float64\n",
      " 16  Attr17  7002 non-null   float64\n",
      " 17  Attr18  7024 non-null   float64\n",
      " 18  Attr19  7027 non-null   float64\n",
      " 19  Attr20  7027 non-null   float64\n",
      " 20  Attr21  5405 non-null   float64\n",
      " 21  Attr22  7024 non-null   float64\n",
      " 22  Attr23  7027 non-null   float64\n",
      " 23  Attr24  6903 non-null   float64\n",
      " 24  Attr25  7024 non-null   float64\n",
      " 25  Attr26  7002 non-null   float64\n",
      " 26  Attr27  6716 non-null   float64\n",
      " 27  Attr28  6993 non-null   float64\n",
      " 28  Attr29  7024 non-null   float64\n",
      " 29  Attr30  7027 non-null   float64\n",
      " 30  Attr31  7027 non-null   float64\n",
      " 31  Attr32  6989 non-null   float64\n",
      " 32  Attr33  6997 non-null   float64\n",
      " 33  Attr34  7002 non-null   float64\n",
      " 34  Attr35  7024 non-null   float64\n",
      " 35  Attr36  7024 non-null   float64\n",
      " 36  Attr37  4287 non-null   float64\n",
      " 37  Attr38  7024 non-null   float64\n",
      " 38  Attr39  7027 non-null   float64\n",
      " 39  Attr40  6997 non-null   float64\n",
      " 40  Attr41  6943 non-null   float64\n",
      " 41  Attr42  7027 non-null   float64\n",
      " 42  Attr43  7027 non-null   float64\n",
      " 43  Attr44  7027 non-null   float64\n",
      " 44  Attr45  6893 non-null   float64\n",
      " 45  Attr46  6996 non-null   float64\n",
      " 46  Attr47  6998 non-null   float64\n",
      " 47  Attr48  7024 non-null   float64\n",
      " 48  Attr49  7027 non-null   float64\n",
      " 49  Attr50  7002 non-null   float64\n",
      " 50  Attr51  7024 non-null   float64\n",
      " 51  Attr52  6998 non-null   float64\n",
      " 52  Attr53  6993 non-null   float64\n",
      " 53  Attr54  6993 non-null   float64\n",
      " 54  Attr55  7027 non-null   float64\n",
      " 55  Attr56  7027 non-null   float64\n",
      " 56  Attr57  7026 non-null   float64\n",
      " 57  Attr58  7027 non-null   float64\n",
      " 58  Attr59  7026 non-null   float64\n",
      " 59  Attr60  6892 non-null   float64\n",
      " 60  Attr61  7005 non-null   float64\n",
      " 61  Attr62  7027 non-null   float64\n",
      " 62  Attr63  6997 non-null   float64\n",
      " 63  Attr64  6993 non-null   float64\n",
      " 64  class   7027 non-null   int64  \n",
      "dtypes: float64(64), int64(1)\n",
      "memory usage: 3.5 MB\n"
     ]
    }
   ],
   "source": [
    "df.info()"
   ]
  },
  {
   "cell_type": "code",
   "execution_count": 6,
   "id": "caf8d286",
   "metadata": {
    "execution": {
     "iopub.execute_input": "2022-09-14T14:39:18.616975Z",
     "iopub.status.busy": "2022-09-14T14:39:18.616016Z",
     "iopub.status.idle": "2022-09-14T14:39:19.847540Z",
     "shell.execute_reply": "2022-09-14T14:39:19.846317Z"
    },
    "papermill": {
     "duration": 1.247277,
     "end_time": "2022-09-14T14:39:19.850264",
     "exception": false,
     "start_time": "2022-09-14T14:39:18.602987",
     "status": "completed"
    },
    "tags": []
   },
   "outputs": [
    {
     "data": {
      "image/png": "[encoded data removed]",
      "text/plain": [
       "<Figure size 720x648 with 2 Axes>"
      ]
     },
     "metadata": {},
     "output_type": "display_data"
    }
   ],
   "source": [
    "sns.heatmap(df.isna())\n",
    "plt.show()"
   ]
  },
  {
   "cell_type": "markdown",
   "id": "ab3d1b59",
   "metadata": {
    "papermill": {
     "duration": 0.012441,
     "end_time": "2022-09-14T14:39:19.875794",
     "exception": false,
     "start_time": "2022-09-14T14:39:19.863353",
     "status": "completed"
    },
    "tags": []
   },
   "source": [
    "Drop Attr21 & Attr37 then drop null values, as they exhibit a high portion of missng values "
   ]
  },
  {
   "cell_type": "code",
   "execution_count": 7,
   "id": "83632e05",
   "metadata": {
    "execution": {
     "iopub.execute_input": "2022-09-14T14:39:19.904230Z",
     "iopub.status.busy": "2022-09-14T14:39:19.903581Z",
     "iopub.status.idle": "2022-09-14T14:39:19.921957Z",
     "shell.execute_reply": "2022-09-14T14:39:19.920948Z"
    },
    "papermill": {
     "duration": 0.035238,
     "end_time": "2022-09-14T14:39:19.924115",
     "exception": false,
     "start_time": "2022-09-14T14:39:19.888877",
     "status": "completed"
    },
    "tags": []
   },
   "outputs": [
    {
     "data": {
      "text/plain": [
       "Attr1     0\n",
       "Attr2     0\n",
       "Attr3     0\n",
       "Attr4     0\n",
       "Attr5     0\n",
       "         ..\n",
       "Attr61    0\n",
       "Attr62    0\n",
       "Attr63    0\n",
       "Attr64    0\n",
       "class     0\n",
       "Length: 63, dtype: int64"
      ]
     },
     "execution_count": 7,
     "metadata": {},
     "output_type": "execute_result"
    }
   ],
   "source": [
    "df.drop(['Attr21','Attr37'], axis = 1, inplace = True)\n",
    "df.dropna(inplace = True)\n",
    "df.isna().sum()"
   ]
  },
  {
   "cell_type": "markdown",
   "id": "5c0ed2b1",
   "metadata": {
    "papermill": {
     "duration": 0.012379,
     "end_time": "2022-09-14T14:39:19.949015",
     "exception": false,
     "start_time": "2022-09-14T14:39:19.936636",
     "status": "completed"
    },
    "tags": []
   },
   "source": [
    "64 variables are of type floats with no missing values and a binary Target \n"
   ]
  },
  {
   "cell_type": "markdown",
   "id": "b3ae99c7",
   "metadata": {
    "papermill": {
     "duration": 0.012348,
     "end_time": "2022-09-14T14:39:19.973981",
     "exception": false,
     "start_time": "2022-09-14T14:39:19.961633",
     "status": "completed"
    },
    "tags": []
   },
   "source": [
    "## Outliers\n",
    "Filtering outliers removed more than half of the samples. using IQR method with a threshold of 3"
   ]
  },
  {
   "cell_type": "code",
   "execution_count": 8,
   "id": "41e6952d",
   "metadata": {
    "_kg_hide-input": true,
    "execution": {
     "iopub.execute_input": "2022-09-14T14:39:20.001824Z",
     "iopub.status.busy": "2022-09-14T14:39:20.000709Z",
     "iopub.status.idle": "2022-09-14T14:39:20.007839Z",
     "shell.execute_reply": "2022-09-14T14:39:20.006952Z"
    },
    "jupyter": {
     "source_hidden": true
    },
    "papermill": {
     "duration": 0.023623,
     "end_time": "2022-09-14T14:39:20.010198",
     "exception": false,
     "start_time": "2022-09-14T14:39:19.986575",
     "status": "completed"
    },
    "tags": []
   },
   "outputs": [],
   "source": [
    "def identify_outliers(x,multiplier):\n",
    "    \"\"\"\"Detect ouliers using IQR method with \"\"\"\n",
    "\n",
    "    q75 = np.percentile(x, 75)\n",
    "    q25 = np.percentile(x, 25)\n",
    "    iqr = q75 - q25\n",
    "    threshold = iqr*multiplier\n",
    "    upper = q75 + threshold \n",
    "    lower = q25 - threshold\n",
    "    outliers = x[(x<lower) | (x> upper)]\n",
    "    return outliers    "
   ]
  },
  {
   "cell_type": "code",
   "execution_count": 9,
   "id": "bfd96ae1",
   "metadata": {
    "execution": {
     "iopub.execute_input": "2022-09-14T14:39:20.038855Z",
     "iopub.status.busy": "2022-09-14T14:39:20.038133Z",
     "iopub.status.idle": "2022-09-14T14:39:20.043282Z",
     "shell.execute_reply": "2022-09-14T14:39:20.042447Z"
    },
    "jupyter": {
     "source_hidden": true
    },
    "papermill": {
     "duration": 0.022443,
     "end_time": "2022-09-14T14:39:20.045575",
     "exception": false,
     "start_time": "2022-09-14T14:39:20.023132",
     "status": "completed"
    },
    "tags": []
   },
   "outputs": [],
   "source": [
    "#for col in df.iloc[:,:-1]:\n",
    "#    outliers = identify_outliers(df[col], 3)\n",
    "#    df.drop(labels = outliers.index, axis = 0, inplace = True)"
   ]
  },
  {
   "cell_type": "markdown",
   "id": "642b393e",
   "metadata": {
    "papermill": {
     "duration": 0.012342,
     "end_time": "2022-09-14T14:39:20.070632",
     "exception": false,
     "start_time": "2022-09-14T14:39:20.058290",
     "status": "completed"
    },
    "tags": []
   },
   "source": [
    "Filtering outlier implied removing significant amount samples even with extreme criteria, hence it is not implemented "
   ]
  },
  {
   "cell_type": "markdown",
   "id": "bff9421d",
   "metadata": {
    "papermill": {
     "duration": 0.012742,
     "end_time": "2022-09-14T14:39:20.096030",
     "exception": false,
     "start_time": "2022-09-14T14:39:20.083288",
     "status": "completed"
    },
    "tags": []
   },
   "source": [
    "## Data Analysis"
   ]
  },
  {
   "cell_type": "code",
   "execution_count": 10,
   "id": "73f2b8a6",
   "metadata": {
    "execution": {
     "iopub.execute_input": "2022-09-14T14:39:20.123632Z",
     "iopub.status.busy": "2022-09-14T14:39:20.123015Z",
     "iopub.status.idle": "2022-09-14T14:39:20.317381Z",
     "shell.execute_reply": "2022-09-14T14:39:20.315710Z"
    },
    "papermill": {
     "duration": 0.211352,
     "end_time": "2022-09-14T14:39:20.320041",
     "exception": false,
     "start_time": "2022-09-14T14:39:20.108689",
     "status": "completed"
    },
    "tags": []
   },
   "outputs": [
    {
     "name": "stderr",
     "output_type": "stream",
     "text": [
      "/opt/conda/lib/python3.7/site-packages/seaborn/_decorators.py:43: FutureWarning: Pass the following variable as a keyword arg: x. From version 0.12, the only valid positional argument will be `data`, and passing other arguments without an explicit keyword will result in an error or misinterpretation.\n",
      "  FutureWarning\n"
     ]
    },
    {
     "data": {
      "image/png": "[encoded data removed]",
      "text/plain": [
       "<Figure size 720x648 with 1 Axes>"
      ]
     },
     "metadata": {},
     "output_type": "display_data"
    },
    {
     "name": "stdout",
     "output_type": "stream",
     "text": [
      "1.6619183285849954\n"
     ]
    }
   ],
   "source": [
    "sns.countplot(df['class'])\n",
    "plt.xticks([0,1], ['Non-bankrupt', 'Bankrupt'])\n",
    "plt.show()\n",
    "print(len(df[df['class'] == 1])/len(df['class']) * 100)"
   ]
  },
  {
   "cell_type": "markdown",
   "id": "6fdb5451",
   "metadata": {
    "papermill": {
     "duration": 0.013836,
     "end_time": "2022-09-14T14:39:20.347224",
     "exception": false,
     "start_time": "2022-09-14T14:39:20.333388",
     "status": "completed"
    },
    "tags": []
   },
   "source": [
    "The data is imbalanced where only 1.66% of the companies are bankrupt. This might suggest reconsidering the evaluations metrics such as precsions and recall when classifyng or oversampling"
   ]
  },
  {
   "cell_type": "code",
   "execution_count": 11,
   "id": "e95d3706",
   "metadata": {
    "execution": {
     "iopub.execute_input": "2022-09-14T14:39:20.375038Z",
     "iopub.status.busy": "2022-09-14T14:39:20.374619Z",
     "iopub.status.idle": "2022-09-14T14:39:21.154742Z",
     "shell.execute_reply": "2022-09-14T14:39:21.153475Z"
    },
    "papermill": {
     "duration": 0.797045,
     "end_time": "2022-09-14T14:39:21.157197",
     "exception": false,
     "start_time": "2022-09-14T14:39:20.360152",
     "status": "completed"
    },
    "tags": []
   },
   "outputs": [
    {
     "name": "stderr",
     "output_type": "stream",
     "text": [
      "/opt/conda/lib/python3.7/site-packages/seaborn/_decorators.py:43: FutureWarning: Pass the following variables as keyword args: x, y. From version 0.12, the only valid positional argument will be `data`, and passing other arguments without an explicit keyword will result in an error or misinterpretation.\n",
      "  FutureWarning\n",
      "/opt/conda/lib/python3.7/site-packages/seaborn/_decorators.py:43: FutureWarning: Pass the following variables as keyword args: x, y. From version 0.12, the only valid positional argument will be `data`, and passing other arguments without an explicit keyword will result in an error or misinterpretation.\n",
      "  FutureWarning\n"
     ]
    },
    {
     "data": {
      "image/png": "[encoded data removed]",
      "text/plain": [
       "<Figure size 720x648 with 2 Axes>"
      ]
     },
     "metadata": {},
     "output_type": "display_data"
    }
   ],
   "source": [
    "plt.subplot(1,2,1)\n",
    "sns.scatterplot(df['Attr1'], df['Attr2'], hue = df['class'])\n",
    "\n",
    "plt.subplot(1,2,2)\n",
    "sns.scatterplot(df['Attr11'], df['Attr12'], hue = df['class'])\n",
    "plt.show()"
   ]
  },
  {
   "cell_type": "markdown",
   "id": "470a54e6",
   "metadata": {
    "papermill": {
     "duration": 0.015061,
     "end_time": "2022-09-14T14:39:21.186685",
     "exception": false,
     "start_time": "2022-09-14T14:39:21.171624",
     "status": "completed"
    },
    "tags": []
   },
   "source": [
    "## Descriptive Statistics"
   ]
  },
  {
   "cell_type": "code",
   "execution_count": 12,
   "id": "a3e4c80b",
   "metadata": {
    "execution": {
     "iopub.execute_input": "2022-09-14T14:39:21.216738Z",
     "iopub.status.busy": "2022-09-14T14:39:21.216314Z",
     "iopub.status.idle": "2022-09-14T14:39:21.377513Z",
     "shell.execute_reply": "2022-09-14T14:39:21.376664Z"
    },
    "papermill": {
     "duration": 0.178738,
     "end_time": "2022-09-14T14:39:21.379703",
     "exception": false,
     "start_time": "2022-09-14T14:39:21.200965",
     "status": "completed"
    },
    "tags": []
   },
   "outputs": [
    {
     "data": {
      "text/html": [
       "<div>\n",
       "<style scoped>\n",
       "    .dataframe tbody tr th:only-of-type {\n",
       "        vertical-align: middle;\n",
       "    }\n",
       "\n",
       "    .dataframe tbody tr th {\n",
       "        vertical-align: top;\n",
       "    }\n",
       "\n",
       "    .dataframe thead th {\n",
       "        text-align: right;\n",
       "    }\n",
       "</style>\n",
       "<table border=\"1\" class=\"dataframe\">\n",
       "  <thead>\n",
       "    <tr style=\"text-align: right;\">\n",
       "      <th></th>\n",
       "      <th>count</th>\n",
       "      <th>mean</th>\n",
       "      <th>std</th>\n",
       "      <th>min</th>\n",
       "      <th>25%</th>\n",
       "      <th>50%</th>\n",
       "      <th>75%</th>\n",
       "      <th>max</th>\n",
       "    </tr>\n",
       "  </thead>\n",
       "  <tbody>\n",
       "    <tr>\n",
       "      <th>Attr1</th>\n",
       "      <td>6318.0</td>\n",
       "      <td>0.104830</td>\n",
       "      <td>0.155845</td>\n",
       "      <td>-1.186200</td>\n",
       "      <td>0.022538</td>\n",
       "      <td>0.076168</td>\n",
       "      <td>0.157773</td>\n",
       "      <td>1.994300e+00</td>\n",
       "    </tr>\n",
       "    <tr>\n",
       "      <th>Attr2</th>\n",
       "      <td>6318.0</td>\n",
       "      <td>0.502763</td>\n",
       "      <td>0.310280</td>\n",
       "      <td>0.004765</td>\n",
       "      <td>0.298922</td>\n",
       "      <td>0.481230</td>\n",
       "      <td>0.677360</td>\n",
       "      <td>1.075900e+01</td>\n",
       "    </tr>\n",
       "    <tr>\n",
       "      <th>Attr3</th>\n",
       "      <td>6318.0</td>\n",
       "      <td>0.186207</td>\n",
       "      <td>0.304604</td>\n",
       "      <td>-10.036000</td>\n",
       "      <td>0.029755</td>\n",
       "      <td>0.181190</td>\n",
       "      <td>0.358245</td>\n",
       "      <td>9.518000e-01</td>\n",
       "    </tr>\n",
       "    <tr>\n",
       "      <th>Attr4</th>\n",
       "      <td>6318.0</td>\n",
       "      <td>2.415774</td>\n",
       "      <td>4.148543</td>\n",
       "      <td>0.060713</td>\n",
       "      <td>1.066275</td>\n",
       "      <td>1.503100</td>\n",
       "      <td>2.449350</td>\n",
       "      <td>1.638900e+02</td>\n",
       "    </tr>\n",
       "    <tr>\n",
       "      <th>Attr5</th>\n",
       "      <td>6318.0</td>\n",
       "      <td>259.724237</td>\n",
       "      <td>16900.579795</td>\n",
       "      <td>-102660.000000</td>\n",
       "      <td>-44.025500</td>\n",
       "      <td>-5.987600</td>\n",
       "      <td>36.462500</td>\n",
       "      <td>9.909000e+05</td>\n",
       "    </tr>\n",
       "    <tr>\n",
       "      <th>...</th>\n",
       "      <td>...</td>\n",
       "      <td>...</td>\n",
       "      <td>...</td>\n",
       "      <td>...</td>\n",
       "      <td>...</td>\n",
       "      <td>...</td>\n",
       "      <td>...</td>\n",
       "      <td>...</td>\n",
       "    </tr>\n",
       "    <tr>\n",
       "      <th>Attr61</th>\n",
       "      <td>6318.0</td>\n",
       "      <td>11.281208</td>\n",
       "      <td>35.267407</td>\n",
       "      <td>0.000408</td>\n",
       "      <td>4.884625</td>\n",
       "      <td>7.066550</td>\n",
       "      <td>10.647750</td>\n",
       "      <td>1.451500e+03</td>\n",
       "    </tr>\n",
       "    <tr>\n",
       "      <th>Attr62</th>\n",
       "      <td>6318.0</td>\n",
       "      <td>1269.437308</td>\n",
       "      <td>91545.750182</td>\n",
       "      <td>0.350220</td>\n",
       "      <td>43.977250</td>\n",
       "      <td>68.788000</td>\n",
       "      <td>105.957500</td>\n",
       "      <td>7.276000e+06</td>\n",
       "    </tr>\n",
       "    <tr>\n",
       "      <th>Attr63</th>\n",
       "      <td>6318.0</td>\n",
       "      <td>7.862085</td>\n",
       "      <td>18.222272</td>\n",
       "      <td>0.000050</td>\n",
       "      <td>3.444900</td>\n",
       "      <td>5.306150</td>\n",
       "      <td>8.299800</td>\n",
       "      <td>1.042200e+03</td>\n",
       "    </tr>\n",
       "    <tr>\n",
       "      <th>Attr64</th>\n",
       "      <td>6318.0</td>\n",
       "      <td>20.578546</td>\n",
       "      <td>161.522271</td>\n",
       "      <td>0.000066</td>\n",
       "      <td>2.502675</td>\n",
       "      <td>4.532850</td>\n",
       "      <td>9.383500</td>\n",
       "      <td>8.226600e+03</td>\n",
       "    </tr>\n",
       "    <tr>\n",
       "      <th>class</th>\n",
       "      <td>6318.0</td>\n",
       "      <td>0.016619</td>\n",
       "      <td>0.127850</td>\n",
       "      <td>0.000000</td>\n",
       "      <td>0.000000</td>\n",
       "      <td>0.000000</td>\n",
       "      <td>0.000000</td>\n",
       "      <td>1.000000e+00</td>\n",
       "    </tr>\n",
       "  </tbody>\n",
       "</table>\n",
       "<p>63 rows × 8 columns</p>\n",
       "</div>"
      ],
      "text/plain": [
       "         count         mean           std            min        25%  \\\n",
       "Attr1   6318.0     0.104830      0.155845      -1.186200   0.022538   \n",
       "Attr2   6318.0     0.502763      0.310280       0.004765   0.298922   \n",
       "Attr3   6318.0     0.186207      0.304604     -10.036000   0.029755   \n",
       "Attr4   6318.0     2.415774      4.148543       0.060713   1.066275   \n",
       "Attr5   6318.0   259.724237  16900.579795 -102660.000000 -44.025500   \n",
       "...        ...          ...           ...            ...        ...   \n",
       "Attr61  6318.0    11.281208     35.267407       0.000408   4.884625   \n",
       "Attr62  6318.0  1269.437308  91545.750182       0.350220  43.977250   \n",
       "Attr63  6318.0     7.862085     18.222272       0.000050   3.444900   \n",
       "Attr64  6318.0    20.578546    161.522271       0.000066   2.502675   \n",
       "class   6318.0     0.016619      0.127850       0.000000   0.000000   \n",
       "\n",
       "              50%         75%           max  \n",
       "Attr1    0.076168    0.157773  1.994300e+00  \n",
       "Attr2    0.481230    0.677360  1.075900e+01  \n",
       "Attr3    0.181190    0.358245  9.518000e-01  \n",
       "Attr4    1.503100    2.449350  1.638900e+02  \n",
       "Attr5   -5.987600   36.462500  9.909000e+05  \n",
       "...           ...         ...           ...  \n",
       "Attr61   7.066550   10.647750  1.451500e+03  \n",
       "Attr62  68.788000  105.957500  7.276000e+06  \n",
       "Attr63   5.306150    8.299800  1.042200e+03  \n",
       "Attr64   4.532850    9.383500  8.226600e+03  \n",
       "class    0.000000    0.000000  1.000000e+00  \n",
       "\n",
       "[63 rows x 8 columns]"
      ]
     },
     "execution_count": 12,
     "metadata": {},
     "output_type": "execute_result"
    }
   ],
   "source": [
    "stats = df.describe().T\n",
    "stats"
   ]
  },
  {
   "cell_type": "markdown",
   "id": "69af4c88",
   "metadata": {
    "papermill": {
     "duration": 0.014035,
     "end_time": "2022-09-14T14:39:21.408194",
     "exception": false,
     "start_time": "2022-09-14T14:39:21.394159",
     "status": "completed"
    },
    "tags": []
   },
   "source": [
    "Attr1: The average return on assets 'ROA' for companies is 0.5. \n",
    "\n",
    "Attr3: working capital o assets ratio for is 0.18 on average"
   ]
  },
  {
   "cell_type": "markdown",
   "id": "aa4858cd",
   "metadata": {
    "papermill": {
     "duration": 0.014015,
     "end_time": "2022-09-14T14:39:21.436544",
     "exception": false,
     "start_time": "2022-09-14T14:39:21.422529",
     "status": "completed"
    },
    "tags": []
   },
   "source": [
    "## ANOVA: feature selection\n",
    "Check the importance and the significance of each variable on bankruptcy.\n",
    "Since we have two groups 'non-bankrupt' and 'Bankrupt', one simple approach is to test the significance of all the attributes through a one-way ANOVA; check the weather the mean level is different between the two groups. This will have multiple positive implications.\n",
    "1. Trim the dataset to be able analyze the important variables and visualize them.\n",
    "2. helps in feature selection when classifying and picking a right model.\n",
    "\n",
    "* $H_0: \\mu_1$ = $\\mu_2$\n",
    "*                   $H_1: \\mu_1$ $\\neq \\mu_2$ \n",
    "* where 1 is the first class 'Non-bankrupt' and 2 is 'Bankrupt'"
   ]
  },
  {
   "cell_type": "code",
   "execution_count": 13,
   "id": "f47cc34f",
   "metadata": {
    "_kg_hide-input": true,
    "execution": {
     "iopub.execute_input": "2022-09-14T14:39:21.467028Z",
     "iopub.status.busy": "2022-09-14T14:39:21.466323Z",
     "iopub.status.idle": "2022-09-14T14:39:21.471455Z",
     "shell.execute_reply": "2022-09-14T14:39:21.470676Z"
    },
    "jupyter": {
     "source_hidden": true
    },
    "papermill": {
     "duration": 0.022869,
     "end_time": "2022-09-14T14:39:21.473643",
     "exception": false,
     "start_time": "2022-09-14T14:39:21.450774",
     "status": "completed"
    },
    "tags": []
   },
   "outputs": [],
   "source": [
    "def anova(X,y):\n",
    "    #instantiate a class\n",
    "    best = SelectKBest(f_classif)\n",
    "\n",
    "    #fit\n",
    "    best.fit(X,y)\n",
    "\n",
    "    #print features whose p-value in less than 0.05\n",
    "    X_significant = best.get_feature_names_out(X.columns)\n",
    "    \n",
    "    return X_significant"
   ]
  },
  {
   "cell_type": "code",
   "execution_count": 14,
   "id": "bbf7b2d6",
   "metadata": {
    "execution": {
     "iopub.execute_input": "2022-09-14T14:39:21.504268Z",
     "iopub.status.busy": "2022-09-14T14:39:21.503895Z",
     "iopub.status.idle": "2022-09-14T14:39:21.524530Z",
     "shell.execute_reply": "2022-09-14T14:39:21.523364Z"
    },
    "papermill": {
     "duration": 0.038839,
     "end_time": "2022-09-14T14:39:21.527007",
     "exception": false,
     "start_time": "2022-09-14T14:39:21.488168",
     "status": "completed"
    },
    "tags": []
   },
   "outputs": [
    {
     "data": {
      "text/plain": [
       "array(['Attr1', 'Attr2', 'Attr10', 'Attr14', 'Attr18', 'Attr24', 'Attr25',\n",
       "       'Attr29', 'Attr38', 'Attr51'], dtype=object)"
      ]
     },
     "execution_count": 14,
     "metadata": {},
     "output_type": "execute_result"
    }
   ],
   "source": [
    "X_significant = anova(df.iloc[:,:-1], df.iloc[:,-1])\n",
    "X_significant"
   ]
  },
  {
   "cell_type": "markdown",
   "id": "68c20be1",
   "metadata": {
    "papermill": {
     "duration": 0.014061,
     "end_time": "2022-09-14T14:39:21.555653",
     "exception": false,
     "start_time": "2022-09-14T14:39:21.541592",
     "status": "completed"
    },
    "tags": []
   },
   "source": [
    "10 attributes are significant with p-value less than 0.05 . Attr 1 that measures the return on assets (ROA) is significant than Attr 3 that measures the short-term solvency of a company. These attributes only will affect our prediction values. "
   ]
  },
  {
   "cell_type": "code",
   "execution_count": 15,
   "id": "35c55f8c",
   "metadata": {
    "execution": {
     "iopub.execute_input": "2022-09-14T14:39:21.586544Z",
     "iopub.status.busy": "2022-09-14T14:39:21.586176Z",
     "iopub.status.idle": "2022-09-14T14:39:21.592070Z",
     "shell.execute_reply": "2022-09-14T14:39:21.591082Z"
    },
    "papermill": {
     "duration": 0.024076,
     "end_time": "2022-09-14T14:39:21.594195",
     "exception": false,
     "start_time": "2022-09-14T14:39:21.570119",
     "status": "completed"
    },
    "tags": []
   },
   "outputs": [],
   "source": [
    "# Split the features and target  \n",
    "X = df.loc[:,X_significant]\n",
    "y = df.iloc[:,-1]"
   ]
  },
  {
   "cell_type": "code",
   "execution_count": 16,
   "id": "5b7b9575",
   "metadata": {
    "execution": {
     "iopub.execute_input": "2022-09-14T14:39:21.625182Z",
     "iopub.status.busy": "2022-09-14T14:39:21.624797Z",
     "iopub.status.idle": "2022-09-14T14:39:22.316707Z",
     "shell.execute_reply": "2022-09-14T14:39:22.315775Z"
    },
    "papermill": {
     "duration": 0.710104,
     "end_time": "2022-09-14T14:39:22.318935",
     "exception": false,
     "start_time": "2022-09-14T14:39:21.608831",
     "status": "completed"
    },
    "tags": []
   },
   "outputs": [
    {
     "data": {
      "text/plain": [
       "<AxesSubplot:>"
      ]
     },
     "execution_count": 16,
     "metadata": {},
     "output_type": "execute_result"
    },
    {
     "data": {
      "image/png": "[encoded data removed]",
      "text/plain": [
       "<Figure size 720x648 with 2 Axes>"
      ]
     },
     "metadata": {},
     "output_type": "display_data"
    }
   ],
   "source": [
    "sns.heatmap(X.corr(), annot = True)"
   ]
  },
  {
   "cell_type": "markdown",
   "id": "e087a076",
   "metadata": {
    "papermill": {
     "duration": 0.015998,
     "end_time": "2022-09-14T14:39:22.351703",
     "exception": false,
     "start_time": "2022-09-14T14:39:22.335705",
     "status": "completed"
    },
    "tags": []
   },
   "source": [
    "Attr 14 and Attr 18 are perfectly correlated. \n",
    "Drop them. Redundant information "
   ]
  },
  {
   "cell_type": "code",
   "execution_count": 17,
   "id": "8f6f925b",
   "metadata": {
    "execution": {
     "iopub.execute_input": "2022-09-14T14:39:22.386941Z",
     "iopub.status.busy": "2022-09-14T14:39:22.386183Z",
     "iopub.status.idle": "2022-09-14T14:39:22.392387Z",
     "shell.execute_reply": "2022-09-14T14:39:22.391340Z"
    },
    "papermill": {
     "duration": 0.026059,
     "end_time": "2022-09-14T14:39:22.394522",
     "exception": false,
     "start_time": "2022-09-14T14:39:22.368463",
     "status": "completed"
    },
    "tags": []
   },
   "outputs": [],
   "source": [
    "X.drop('Attr14', axis = 1, inplace = True)"
   ]
  },
  {
   "cell_type": "code",
   "execution_count": 18,
   "id": "29d16837",
   "metadata": {
    "execution": {
     "iopub.execute_input": "2022-09-14T14:39:22.427921Z",
     "iopub.status.busy": "2022-09-14T14:39:22.427169Z",
     "iopub.status.idle": "2022-09-14T14:39:22.437363Z",
     "shell.execute_reply": "2022-09-14T14:39:22.436514Z"
    },
    "papermill": {
     "duration": 0.029508,
     "end_time": "2022-09-14T14:39:22.439705",
     "exception": false,
     "start_time": "2022-09-14T14:39:22.410197",
     "status": "completed"
    },
    "tags": []
   },
   "outputs": [],
   "source": [
    "# train test split\n",
    "X_train, X_test, y_train, y_test = train_test_split(X,y, test_size = 0.2, random_state = 1, stratify = y)"
   ]
  },
  {
   "cell_type": "markdown",
   "id": "96a831c2",
   "metadata": {
    "papermill": {
     "duration": 0.015496,
     "end_time": "2022-09-14T14:39:22.471179",
     "exception": false,
     "start_time": "2022-09-14T14:39:22.455683",
     "status": "completed"
    },
    "tags": []
   },
   "source": [
    "## PCA \n",
    "Vizualizing the data with PCA will help in selecting a correct model, it will help identify weather the data is linearly seperable or not. the classes might exhibit heavy overlap, hence no matter which model we choose, it will perform poorly on the test set.  "
   ]
  },
  {
   "cell_type": "code",
   "execution_count": 19,
   "id": "4bf11ff5",
   "metadata": {
    "execution": {
     "iopub.execute_input": "2022-09-14T14:39:22.504929Z",
     "iopub.status.busy": "2022-09-14T14:39:22.504176Z",
     "iopub.status.idle": "2022-09-14T14:39:22.792869Z",
     "shell.execute_reply": "2022-09-14T14:39:22.791592Z"
    },
    "jupyter": {
     "source_hidden": true
    },
    "papermill": {
     "duration": 0.30877,
     "end_time": "2022-09-14T14:39:22.795819",
     "exception": false,
     "start_time": "2022-09-14T14:39:22.487049",
     "status": "completed"
    },
    "tags": []
   },
   "outputs": [
    {
     "data": {
      "image/png": "[encoded data removed]",
      "text/plain": [
       "<Figure size 720x648 with 1 Axes>"
      ]
     },
     "metadata": {},
     "output_type": "display_data"
    }
   ],
   "source": [
    "scaler = StandardScaler()\n",
    "X_train_scaled = scaler.fit_transform(X_train)\n",
    "\n",
    "pca = PCA()\n",
    "X_train_transformed = pca.fit_transform(X_train_scaled)\n",
    "\n",
    "plt.bar(x = range(1,len(pca.components_[:,0])+1), height = pca.explained_variance_ratio_)\n",
    "plt.xlabel('Principle Components')\n",
    "plt.ylabel(\"Explained Varaince %\")\n",
    "plt.show()"
   ]
  },
  {
   "cell_type": "code",
   "execution_count": 20,
   "id": "fca62408",
   "metadata": {
    "execution": {
     "iopub.execute_input": "2022-09-14T14:39:22.830963Z",
     "iopub.status.busy": "2022-09-14T14:39:22.830506Z",
     "iopub.status.idle": "2022-09-14T14:39:23.255675Z",
     "shell.execute_reply": "2022-09-14T14:39:23.254637Z"
    },
    "papermill": {
     "duration": 0.445828,
     "end_time": "2022-09-14T14:39:23.258412",
     "exception": false,
     "start_time": "2022-09-14T14:39:22.812584",
     "status": "completed"
    },
    "tags": []
   },
   "outputs": [
    {
     "name": "stderr",
     "output_type": "stream",
     "text": [
      "/opt/conda/lib/python3.7/site-packages/seaborn/_decorators.py:43: FutureWarning: Pass the following variables as keyword args: x, y. From version 0.12, the only valid positional argument will be `data`, and passing other arguments without an explicit keyword will result in an error or misinterpretation.\n",
      "  FutureWarning\n"
     ]
    },
    {
     "data": {
      "image/png": "[encoded data removed]",
      "text/plain": [
       "<Figure size 720x648 with 1 Axes>"
      ]
     },
     "metadata": {},
     "output_type": "display_data"
    }
   ],
   "source": [
    "#Vizualizing only two components\n",
    "sns.scatterplot(X_train_transformed[:,0], X_train_transformed[:,1], hue = y_train)\n",
    "plt.show()"
   ]
  },
  {
   "cell_type": "markdown",
   "id": "35ebde28",
   "metadata": {
    "papermill": {
     "duration": 0.01684,
     "end_time": "2022-09-14T14:39:23.292129",
     "exception": false,
     "start_time": "2022-09-14T14:39:23.275289",
     "status": "completed"
    },
    "tags": []
   },
   "source": [
    "Even though, we selected the relevant features, the classes overlap heavily. This suggests that models will perform poorly "
   ]
  },
  {
   "cell_type": "markdown",
   "id": "1cf2b7c1",
   "metadata": {
    "papermill": {
     "duration": 0.016361,
     "end_time": "2022-09-14T14:39:23.325152",
     "exception": false,
     "start_time": "2022-09-14T14:39:23.308791",
     "status": "completed"
    },
    "tags": []
   },
   "source": [
    "# SMOTE\n",
    "As stated the data is extremely imbalanced. Over-sampling is implemented to remedy this issue. "
   ]
  },
  {
   "cell_type": "code",
   "execution_count": 21,
   "id": "6bdeb034",
   "metadata": {
    "execution": {
     "iopub.execute_input": "2022-09-14T14:39:23.360295Z",
     "iopub.status.busy": "2022-09-14T14:39:23.359595Z",
     "iopub.status.idle": "2022-09-14T14:39:23.386671Z",
     "shell.execute_reply": "2022-09-14T14:39:23.385559Z"
    },
    "papermill": {
     "duration": 0.047102,
     "end_time": "2022-09-14T14:39:23.388932",
     "exception": false,
     "start_time": "2022-09-14T14:39:23.341830",
     "status": "completed"
    },
    "tags": []
   },
   "outputs": [
    {
     "data": {
      "text/html": [
       "<div>\n",
       "<style scoped>\n",
       "    .dataframe tbody tr th:only-of-type {\n",
       "        vertical-align: middle;\n",
       "    }\n",
       "\n",
       "    .dataframe tbody tr th {\n",
       "        vertical-align: top;\n",
       "    }\n",
       "\n",
       "    .dataframe thead th {\n",
       "        text-align: right;\n",
       "    }\n",
       "</style>\n",
       "<table border=\"1\" class=\"dataframe\">\n",
       "  <thead>\n",
       "    <tr style=\"text-align: right;\">\n",
       "      <th></th>\n",
       "      <th>Attr1</th>\n",
       "      <th>Attr2</th>\n",
       "      <th>Attr10</th>\n",
       "      <th>Attr18</th>\n",
       "      <th>Attr24</th>\n",
       "      <th>Attr25</th>\n",
       "      <th>Attr29</th>\n",
       "      <th>Attr38</th>\n",
       "      <th>Attr51</th>\n",
       "    </tr>\n",
       "  </thead>\n",
       "  <tbody>\n",
       "    <tr>\n",
       "      <th>0</th>\n",
       "      <td>0.024228</td>\n",
       "      <td>0.454470</td>\n",
       "      <td>0.545540</td>\n",
       "      <td>0.035396</td>\n",
       "      <td>0.060665</td>\n",
       "      <td>0.516110</td>\n",
       "      <td>3.501700</td>\n",
       "      <td>0.686510</td>\n",
       "      <td>0.313490</td>\n",
       "    </tr>\n",
       "    <tr>\n",
       "      <th>1</th>\n",
       "      <td>-0.064487</td>\n",
       "      <td>0.271810</td>\n",
       "      <td>0.699330</td>\n",
       "      <td>-0.065993</td>\n",
       "      <td>-0.193780</td>\n",
       "      <td>0.699330</td>\n",
       "      <td>3.376100</td>\n",
       "      <td>0.699330</td>\n",
       "      <td>0.271810</td>\n",
       "    </tr>\n",
       "    <tr>\n",
       "      <th>2</th>\n",
       "      <td>0.087284</td>\n",
       "      <td>0.323810</td>\n",
       "      <td>0.676190</td>\n",
       "      <td>0.110720</td>\n",
       "      <td>0.237360</td>\n",
       "      <td>0.662720</td>\n",
       "      <td>3.569600</td>\n",
       "      <td>0.676190</td>\n",
       "      <td>0.201510</td>\n",
       "    </tr>\n",
       "    <tr>\n",
       "      <th>3</th>\n",
       "      <td>0.233600</td>\n",
       "      <td>0.598510</td>\n",
       "      <td>0.401490</td>\n",
       "      <td>0.233600</td>\n",
       "      <td>-0.225070</td>\n",
       "      <td>0.258020</td>\n",
       "      <td>4.291600</td>\n",
       "      <td>0.551660</td>\n",
       "      <td>0.448340</td>\n",
       "    </tr>\n",
       "    <tr>\n",
       "      <th>4</th>\n",
       "      <td>0.063220</td>\n",
       "      <td>0.713280</td>\n",
       "      <td>0.286720</td>\n",
       "      <td>0.063220</td>\n",
       "      <td>0.110880</td>\n",
       "      <td>0.174250</td>\n",
       "      <td>3.841600</td>\n",
       "      <td>0.303720</td>\n",
       "      <td>0.688080</td>\n",
       "    </tr>\n",
       "    <tr>\n",
       "      <th>...</th>\n",
       "      <td>...</td>\n",
       "      <td>...</td>\n",
       "      <td>...</td>\n",
       "      <td>...</td>\n",
       "      <td>...</td>\n",
       "      <td>...</td>\n",
       "      <td>...</td>\n",
       "      <td>...</td>\n",
       "      <td>...</td>\n",
       "    </tr>\n",
       "    <tr>\n",
       "      <th>7450</th>\n",
       "      <td>-0.010648</td>\n",
       "      <td>0.615790</td>\n",
       "      <td>0.384210</td>\n",
       "      <td>-0.005409</td>\n",
       "      <td>0.020892</td>\n",
       "      <td>0.312155</td>\n",
       "      <td>3.887331</td>\n",
       "      <td>0.462463</td>\n",
       "      <td>0.472122</td>\n",
       "    </tr>\n",
       "    <tr>\n",
       "      <th>7451</th>\n",
       "      <td>0.052743</td>\n",
       "      <td>0.592544</td>\n",
       "      <td>0.407456</td>\n",
       "      <td>0.067388</td>\n",
       "      <td>0.167886</td>\n",
       "      <td>0.390635</td>\n",
       "      <td>4.119991</td>\n",
       "      <td>0.431923</td>\n",
       "      <td>0.550894</td>\n",
       "    </tr>\n",
       "    <tr>\n",
       "      <th>7452</th>\n",
       "      <td>0.025364</td>\n",
       "      <td>2.353626</td>\n",
       "      <td>-1.381797</td>\n",
       "      <td>0.025362</td>\n",
       "      <td>0.017571</td>\n",
       "      <td>-2.105843</td>\n",
       "      <td>4.447465</td>\n",
       "      <td>-1.381797</td>\n",
       "      <td>2.064658</td>\n",
       "    </tr>\n",
       "    <tr>\n",
       "      <th>7453</th>\n",
       "      <td>0.017128</td>\n",
       "      <td>0.661263</td>\n",
       "      <td>0.338553</td>\n",
       "      <td>0.027983</td>\n",
       "      <td>0.017385</td>\n",
       "      <td>0.157603</td>\n",
       "      <td>3.496496</td>\n",
       "      <td>0.466120</td>\n",
       "      <td>0.426175</td>\n",
       "    </tr>\n",
       "    <tr>\n",
       "      <th>7454</th>\n",
       "      <td>-0.143014</td>\n",
       "      <td>1.542315</td>\n",
       "      <td>-1.055751</td>\n",
       "      <td>-0.143045</td>\n",
       "      <td>-0.306682</td>\n",
       "      <td>-1.088491</td>\n",
       "      <td>4.586173</td>\n",
       "      <td>-1.023794</td>\n",
       "      <td>1.510358</td>\n",
       "    </tr>\n",
       "  </tbody>\n",
       "</table>\n",
       "<p>7455 rows × 9 columns</p>\n",
       "</div>"
      ],
      "text/plain": [
       "         Attr1     Attr2    Attr10    Attr18    Attr24    Attr25    Attr29  \\\n",
       "0     0.024228  0.454470  0.545540  0.035396  0.060665  0.516110  3.501700   \n",
       "1    -0.064487  0.271810  0.699330 -0.065993 -0.193780  0.699330  3.376100   \n",
       "2     0.087284  0.323810  0.676190  0.110720  0.237360  0.662720  3.569600   \n",
       "3     0.233600  0.598510  0.401490  0.233600 -0.225070  0.258020  4.291600   \n",
       "4     0.063220  0.713280  0.286720  0.063220  0.110880  0.174250  3.841600   \n",
       "...        ...       ...       ...       ...       ...       ...       ...   \n",
       "7450 -0.010648  0.615790  0.384210 -0.005409  0.020892  0.312155  3.887331   \n",
       "7451  0.052743  0.592544  0.407456  0.067388  0.167886  0.390635  4.119991   \n",
       "7452  0.025364  2.353626 -1.381797  0.025362  0.017571 -2.105843  4.447465   \n",
       "7453  0.017128  0.661263  0.338553  0.027983  0.017385  0.157603  3.496496   \n",
       "7454 -0.143014  1.542315 -1.055751 -0.143045 -0.306682 -1.088491  4.586173   \n",
       "\n",
       "        Attr38    Attr51  \n",
       "0     0.686510  0.313490  \n",
       "1     0.699330  0.271810  \n",
       "2     0.676190  0.201510  \n",
       "3     0.551660  0.448340  \n",
       "4     0.303720  0.688080  \n",
       "...        ...       ...  \n",
       "7450  0.462463  0.472122  \n",
       "7451  0.431923  0.550894  \n",
       "7452 -1.381797  2.064658  \n",
       "7453  0.466120  0.426175  \n",
       "7454 -1.023794  1.510358  \n",
       "\n",
       "[7455 rows x 9 columns]"
      ]
     },
     "execution_count": 21,
     "metadata": {},
     "output_type": "execute_result"
    }
   ],
   "source": [
    "# Fit resample\n",
    "over_sample = SMOTE(sampling_strategy = 0.5,random_state = 1)\n",
    "X_train, y_train = over_sample.fit_resample(X_train, y_train)\n",
    "X_train"
   ]
  },
  {
   "cell_type": "markdown",
   "id": "fd07897c",
   "metadata": {
    "papermill": {
     "duration": 0.017582,
     "end_time": "2022-09-14T14:39:23.423614",
     "exception": false,
     "start_time": "2022-09-14T14:39:23.406032",
     "status": "completed"
    },
    "tags": []
   },
   "source": [
    "# Logistic regression model"
   ]
  },
  {
   "cell_type": "code",
   "execution_count": 22,
   "id": "5c8b1155",
   "metadata": {
    "execution": {
     "iopub.execute_input": "2022-09-14T14:39:23.465302Z",
     "iopub.status.busy": "2022-09-14T14:39:23.464607Z",
     "iopub.status.idle": "2022-09-14T14:39:23.561972Z",
     "shell.execute_reply": "2022-09-14T14:39:23.560492Z"
    },
    "papermill": {
     "duration": 0.119531,
     "end_time": "2022-09-14T14:39:23.564310",
     "exception": false,
     "start_time": "2022-09-14T14:39:23.444779",
     "status": "completed"
    },
    "tags": []
   },
   "outputs": [
    {
     "data": {
      "text/plain": [
       "Pipeline(steps=[('standardscaler', StandardScaler()),\n",
       "                ('logisticregression', LogisticRegression())])"
      ]
     },
     "execution_count": 22,
     "metadata": {},
     "output_type": "execute_result"
    }
   ],
   "source": [
    "# make pipe line\n",
    "pipe = make_pipeline(\n",
    "    StandardScaler(),\n",
    "    LogisticRegression()\n",
    ")\n",
    "pipe.fit(X_train, y_train)"
   ]
  },
  {
   "cell_type": "markdown",
   "id": "ffbadc7b",
   "metadata": {
    "papermill": {
     "duration": 0.042592,
     "end_time": "2022-09-14T14:39:23.649614",
     "exception": false,
     "start_time": "2022-09-14T14:39:23.607022",
     "status": "completed"
    },
    "tags": []
   },
   "source": [
    "## Classification report"
   ]
  },
  {
   "cell_type": "code",
   "execution_count": 23,
   "id": "a5b70f71",
   "metadata": {
    "execution": {
     "iopub.execute_input": "2022-09-14T14:39:23.698903Z",
     "iopub.status.busy": "2022-09-14T14:39:23.698529Z",
     "iopub.status.idle": "2022-09-14T14:39:23.843354Z",
     "shell.execute_reply": "2022-09-14T14:39:23.842269Z"
    },
    "jupyter": {
     "source_hidden": true
    },
    "papermill": {
     "duration": 0.16559,
     "end_time": "2022-09-14T14:39:23.845494",
     "exception": false,
     "start_time": "2022-09-14T14:39:23.679904",
     "status": "completed"
    },
    "tags": []
   },
   "outputs": [],
   "source": [
    "def plot_roc_curve(model, y_probs, y_test):\n",
    "    \"\"\"plots the roc curvee\"\"\"\n",
    "    null_model_probs = [0 for idx in range(len(y_test))]\n",
    "\n",
    "    fpr, tpr, thresholds = roc_curve(y_test, y_probs[:,1])\n",
    "    null_fpr, null_tpr, null_thresholds = roc_curve(y_test, null_model_probs)\n",
    "\n",
    "    plt.plot(fpr,tpr, marker = '.', label = 'logistic')\n",
    "    plt.plot(null_fpr, null_tpr, marker = '_', label = 'null_model')\n",
    "\n",
    "    plt.xlabel('False positive rate')\n",
    "    plt.ylabel('True possitive rate')\n",
    "    plt.show()\n"
   ]
  },
  {
   "cell_type": "code",
   "execution_count": 24,
   "id": "9b03abe9",
   "metadata": {
    "execution": {
     "iopub.execute_input": "2022-09-14T14:39:23.883318Z",
     "iopub.status.busy": "2022-09-14T14:39:23.882720Z",
     "iopub.status.idle": "2022-09-14T14:39:24.162457Z",
     "shell.execute_reply": "2022-09-14T14:39:24.160209Z"
    },
    "papermill": {
     "duration": 0.303829,
     "end_time": "2022-09-14T14:39:24.166935",
     "exception": false,
     "start_time": "2022-09-14T14:39:23.863106",
     "status": "completed"
    },
    "tags": []
   },
   "outputs": [
    {
     "data": {
      "image/png": "[encoded data removed]",
      "text/plain": [
       "<Figure size 720x648 with 1 Axes>"
      ]
     },
     "metadata": {},
     "output_type": "display_data"
    },
    {
     "name": "stdout",
     "output_type": "stream",
     "text": [
      "Classification Report:\n",
      "               precision    recall  f1-score   support\n",
      "\n",
      "           0       0.99      0.88      0.93      1243\n",
      "           1       0.07      0.52      0.12        21\n",
      "\n",
      "    accuracy                           0.87      1264\n",
      "   macro avg       0.53      0.70      0.53      1264\n",
      "weighted avg       0.98      0.87      0.92      1264\n",
      "\n",
      "confusion Matrix: \n",
      " [[1092  151]\n",
      " [  10   11]]\n",
      "Train AUC:  0.6676056338028169\n",
      "Test AUC:  0.7011646170938207\n"
     ]
    }
   ],
   "source": [
    "y_probs = pipe.predict_proba(X_test)\n",
    "plot_roc_curve(pipe, y_probs, y_test)\n",
    "\n",
    "y_fits = pipe.predict(X_train)\n",
    "y_pred = pipe.predict(X_test)\n",
    "print(\"Classification Report:\\n\", classification_report(y_test, y_pred))\n",
    "print(\"confusion Matrix: \\n\", confusion_matrix(y_test, y_pred))\n",
    "print(\"Train AUC: \",roc_auc_score(y_train, y_fits))\n",
    "print(\"Test AUC: \",roc_auc_score(y_test, y_pred))"
   ]
  },
  {
   "cell_type": "markdown",
   "id": "2bd369b2",
   "metadata": {
    "papermill": {
     "duration": 0.04475,
     "end_time": "2022-09-14T14:39:24.256884",
     "exception": false,
     "start_time": "2022-09-14T14:39:24.212134",
     "status": "completed"
    },
    "tags": []
   },
   "source": [
    "**52%** of the positive samples (bankrupt) were correctly classified, however with a high false positive rate of 151/(151+1092)= 12.2%. This would cost a lot of dollars for these false alarms. The classifier has **70%** chance of correctly disnguishing a Bankrupt from a Non-Bankrupt company.\n",
    "The model could be tweaked by increasing the threshold to decrease the false positive rate. this depends on the business problem and the type of organisation using this model. Some might prioritise recall over precision. "
   ]
  },
  {
   "cell_type": "code",
   "execution_count": 25,
   "id": "f7b68bd0",
   "metadata": {
    "execution": {
     "iopub.execute_input": "2022-09-14T14:39:24.295675Z",
     "iopub.status.busy": "2022-09-14T14:39:24.295241Z",
     "iopub.status.idle": "2022-09-14T14:39:24.302144Z",
     "shell.execute_reply": "2022-09-14T14:39:24.300554Z"
    },
    "jupyter": {
     "source_hidden": true
    },
    "papermill": {
     "duration": 0.028753,
     "end_time": "2022-09-14T14:39:24.304355",
     "exception": false,
     "start_time": "2022-09-14T14:39:24.275602",
     "status": "completed"
    },
    "tags": []
   },
   "outputs": [],
   "source": [
    "def tune_threshold(y_probs, threshold):\n",
    "    \n",
    "    \"\"\" Predicts target with varing the threshold\"\"\"\n",
    "    y_pred_with_threshold = []\n",
    "\n",
    "    for prob in y_probs[:,1]:\n",
    "            if prob > threshold:\n",
    "                y_pred_with_threshold.append(1)\n",
    "            else:\n",
    "                y_pred_with_threshold.append(0)\n",
    "    return y_pred_with_threshold"
   ]
  },
  {
   "cell_type": "code",
   "execution_count": 26,
   "id": "feef6612",
   "metadata": {
    "execution": {
     "iopub.execute_input": "2022-09-14T14:39:24.343703Z",
     "iopub.status.busy": "2022-09-14T14:39:24.342437Z",
     "iopub.status.idle": "2022-09-14T14:39:24.357977Z",
     "shell.execute_reply": "2022-09-14T14:39:24.357007Z"
    },
    "papermill": {
     "duration": 0.037572,
     "end_time": "2022-09-14T14:39:24.360573",
     "exception": false,
     "start_time": "2022-09-14T14:39:24.323001",
     "status": "completed"
    },
    "tags": []
   },
   "outputs": [
    {
     "name": "stdout",
     "output_type": "stream",
     "text": [
      "Classification Report:\n",
      "               precision    recall  f1-score   support\n",
      "\n",
      "           0       0.99      0.96      0.97      1243\n",
      "           1       0.11      0.33      0.17        21\n",
      "\n",
      "    accuracy                           0.95      1264\n",
      "   macro avg       0.55      0.64      0.57      1264\n",
      "weighted avg       0.97      0.95      0.96      1264\n",
      "\n",
      "confusion Matrix: \n",
      " [[1189   54]\n",
      " [  14    7]]\n",
      "AUC:  0.644945025475999\n"
     ]
    }
   ],
   "source": [
    "y_pred_tuned = tune_threshold(y_probs, 0.65)\n",
    "print(\"Classification Report:\\n\", classification_report(y_test, y_pred_tuned))\n",
    "print(\"confusion Matrix: \\n\", confusion_matrix(y_test, y_pred_tuned))\n",
    "print(\"AUC: \",roc_auc_score(y_test, y_pred_tuned))"
   ]
  },
  {
   "cell_type": "markdown",
   "id": "5ab9ff23",
   "metadata": {
    "papermill": {
     "duration": 0.017552,
     "end_time": "2022-09-14T14:39:24.396165",
     "exception": false,
     "start_time": "2022-09-14T14:39:24.378613",
     "status": "completed"
    },
    "tags": []
   },
   "source": [
    "An organization might only accept\\risk less **5%** false positive rate; hence, raising the threshold to **0.65**, making them classify only 7 bankrupt companies."
   ]
  },
  {
   "cell_type": "markdown",
   "id": "5b033f20",
   "metadata": {
    "papermill": {
     "duration": 0.017838,
     "end_time": "2022-09-14T14:39:24.431662",
     "exception": false,
     "start_time": "2022-09-14T14:39:24.413824",
     "status": "completed"
    },
    "tags": []
   },
   "source": [
    "### Quantifying the effect of each variable on the prediction"
   ]
  },
  {
   "cell_type": "code",
   "execution_count": 27,
   "id": "73738d63",
   "metadata": {
    "execution": {
     "iopub.execute_input": "2022-09-14T14:39:24.474832Z",
     "iopub.status.busy": "2022-09-14T14:39:24.474437Z",
     "iopub.status.idle": "2022-09-14T14:39:24.483721Z",
     "shell.execute_reply": "2022-09-14T14:39:24.482024Z"
    },
    "papermill": {
     "duration": 0.03947,
     "end_time": "2022-09-14T14:39:24.490467",
     "exception": false,
     "start_time": "2022-09-14T14:39:24.450997",
     "status": "completed"
    },
    "tags": []
   },
   "outputs": [
    {
     "name": "stdout",
     "output_type": "stream",
     "text": [
      "[[-1.96817329  4.74517882  4.49229022  2.0132219  -0.61315105 -0.25769929\n",
      "  -0.52610809 -2.02764861 -1.63905181]]\n",
      "['Attr1' 'Attr2' 'Attr10' 'Attr18' 'Attr24' 'Attr25' 'Attr29' 'Attr38'\n",
      " 'Attr51']\n"
     ]
    }
   ],
   "source": [
    "model = pipe.named_steps['logisticregression']\n",
    "feature_names = pipe.feature_names_in_\n",
    "print(model.coef_)\n",
    "print(feature_names)"
   ]
  },
  {
   "cell_type": "markdown",
   "id": "0e815967",
   "metadata": {
    "papermill": {
     "duration": 0.022141,
     "end_time": "2022-09-14T14:39:24.531091",
     "exception": false,
     "start_time": "2022-09-14T14:39:24.508950",
     "status": "completed"
    },
    "tags": []
   },
   "source": [
    "**Equation:**\n",
    "\n",
    "$log(\\frac{p}{1-p}) = -1.96+4.74X_1 + 4.49X_2 + 2.03X_3 - 2.01X_4 - 0.613X_5 - 0.25X_6- 0.52X_7 - 2.02X_8 -1.63X_9$"
   ]
  },
  {
   "cell_type": "code",
   "execution_count": 28,
   "id": "4226aaa0",
   "metadata": {
    "execution": {
     "iopub.execute_input": "2022-09-14T14:39:24.574195Z",
     "iopub.status.busy": "2022-09-14T14:39:24.573098Z",
     "iopub.status.idle": "2022-09-14T14:39:24.580336Z",
     "shell.execute_reply": "2022-09-14T14:39:24.579261Z"
    },
    "jupyter": {
     "source_hidden": true
    },
    "papermill": {
     "duration": 0.029493,
     "end_time": "2022-09-14T14:39:24.582644",
     "exception": false,
     "start_time": "2022-09-14T14:39:24.553151",
     "status": "completed"
    },
    "tags": []
   },
   "outputs": [],
   "source": [
    "def get_odds(feature_names, model):\n",
    "    \"\"\" gets the odds ratio of the coeffients multiplied by a 100  \"\"\"\n",
    "    \n",
    "    for var, coef in enumerate(model.coef_[0,]):\n",
    "        odds = (np.exp(coef) * 100)\n",
    "        odds = round(odds, 2)\n",
    "        print(feature_names[var],\":\", odds)"
   ]
  },
  {
   "cell_type": "code",
   "execution_count": 29,
   "id": "55e09f33",
   "metadata": {
    "execution": {
     "iopub.execute_input": "2022-09-14T14:39:24.620925Z",
     "iopub.status.busy": "2022-09-14T14:39:24.620528Z",
     "iopub.status.idle": "2022-09-14T14:39:24.629562Z",
     "shell.execute_reply": "2022-09-14T14:39:24.628543Z"
    },
    "papermill": {
     "duration": 0.033156,
     "end_time": "2022-09-14T14:39:24.633870",
     "exception": false,
     "start_time": "2022-09-14T14:39:24.600714",
     "status": "completed"
    },
    "tags": []
   },
   "outputs": [
    {
     "name": "stdout",
     "output_type": "stream",
     "text": [
      "Attr1 : 13.97\n",
      "Attr2 : 11502.84\n",
      "Attr10 : 8932.58\n",
      "Attr18 : 748.74\n",
      "Attr24 : 54.16\n",
      "Attr25 : 77.28\n",
      "Attr29 : 59.09\n",
      "Attr38 : 13.16\n",
      "Attr51 : 19.42\n"
     ]
    }
   ],
   "source": [
    "get_odds(feature_names, model)"
   ]
  },
  {
   "cell_type": "markdown",
   "id": "68686d7e",
   "metadata": {
    "papermill": {
     "duration": 0.017819,
     "end_time": "2022-09-14T14:39:24.674788",
     "exception": false,
     "start_time": "2022-09-14T14:39:24.656969",
     "status": "completed"
    },
    "tags": []
   },
   "source": [
    "### Findings\n",
    "These variables are the ones affecting our classification.\n",
    "Logistic regression was used to analyze the effect of these 9 predictors with respect to bankruptcy. It was found that, Attr1 (Return on assets) ***decreases*** the risk of bankruptcy by 86.03%. An in Attr2 ***increases*** the risk of bankruptcy by 11.402.84%, this is doesn't violate theory, as it measures the solvency of a company, it also has the most significant on prediction. An increase Attr24 b a unit ***decreases*** the risk of bankruptcy by 45.84% on average."
   ]
  }
 ],
 "metadata": {
  "kernelspec": {
   "display_name": "Python 3",
   "language": "python",
   "name": "python3"
  },
  "language_info": {
   "codemirror_mode": {
    "name": "ipython",
    "version": 3
   },
   "file_extension": ".py",
   "mimetype": "text/x-python",
   "name": "python",
   "nbconvert_exporter": "python",
   "pygments_lexer": "ipython3",
   "version": "3.7.12"
  },
  "papermill": {
   "default_parameters": {},
   "duration": 18.890685,
   "end_time": "2022-09-14T14:39:25.515545",
   "environment_variables": {},
   "exception": null,
   "input_path": "__notebook__.ipynb",
   "output_path": "__notebook__.ipynb",
   "parameters": {},
   "start_time": "2022-09-14T14:39:06.624860",
   "version": "2.3.4"
  }
 },
 "nbformat": 4,
 "nbformat_minor": 5
}
